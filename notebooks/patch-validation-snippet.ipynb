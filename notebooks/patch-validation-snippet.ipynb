{
 "cells": [
  {
   "cell_type": "markdown",
   "id": "32ba0e53",
   "metadata": {
    "papermill": {
     "duration": 0.002374,
     "end_time": "2025-01-17T04:17:52.393345",
     "exception": false,
     "start_time": "2025-01-17T04:17:52.390971",
     "status": "completed"
    },
    "tags": []
   },
   "source": [
    "We've gotten some questions about how to tell if a given patch is valid or not. The quickest way is to use the unidiff library installed as a `kprize` dependency.\n",
    "\n",
    "You can also write the patch to a file and call `patch_dry_run_succeeds` for a more robust check. The gateway applies both checks."
   ]
  },
  {
   "cell_type": "code",
   "execution_count": 1,
   "id": "5c794983",
   "metadata": {
    "_cell_guid": "b1076dfc-b9ad-4769-8c92-a6c4dae69d19",
    "_uuid": "8f2839f25d086af736a60e9eeb907d3b93b6e0e5",
    "execution": {
     "iopub.execute_input": "2025-01-17T04:17:52.399658Z",
     "iopub.status.busy": "2025-01-17T04:17:52.399145Z",
     "iopub.status.idle": "2025-01-17T04:18:04.796699Z",
     "shell.execute_reply": "2025-01-17T04:18:04.795468Z"
    },
    "papermill": {
     "duration": 12.403735,
     "end_time": "2025-01-17T04:18:04.799387",
     "exception": false,
     "start_time": "2025-01-17T04:17:52.395652",
     "status": "completed"
    },
    "tags": []
   },
   "outputs": [],
   "source": [
    "! pip install -q /kaggle/input/konwinski-prize/kprize_setup/kprize-1.1.0-py3-none-any.whl --no-index --find-links /kaggle/input/konwinski-prize/kprize_setup/kprize_setup/pip_packages/kprize"
   ]
  },
  {
   "cell_type": "code",
   "execution_count": 2,
   "id": "2cf736e6",
   "metadata": {
    "execution": {
     "iopub.execute_input": "2025-01-17T04:18:04.804903Z",
     "iopub.status.busy": "2025-01-17T04:18:04.804485Z",
     "iopub.status.idle": "2025-01-17T04:18:04.820820Z",
     "shell.execute_reply": "2025-01-17T04:18:04.819746Z"
    },
    "papermill": {
     "duration": 0.021856,
     "end_time": "2025-01-17T04:18:04.823218",
     "exception": false,
     "start_time": "2025-01-17T04:18:04.801362",
     "status": "completed"
    },
    "tags": []
   },
   "outputs": [],
   "source": [
    "import subprocess\n",
    "from pathlib import Path\n",
    "\n",
    "import unidiff\n",
    "\n",
    "\n",
    "def is_valid_patch_format(patch: str) -> bool:\n",
    "    \"\"\"\n",
    "    A quick check to confirm if a patch could be valid.\n",
    "    \"\"\"\n",
    "    if not(isinstance(patch, str)):\n",
    "        return False\n",
    "    try:\n",
    "        patch_set = unidiff.PatchSet(patch)\n",
    "        if len(patch_set) == 0:\n",
    "            return False\n",
    "    except Exception:\n",
    "        return False\n",
    "    return True\n",
    "\n",
    "\n",
    "def patch_dry_run_succeeds(patch_path: Path, repo_path: Path, timeout: int=60) -> bool:\n",
    "    \"\"\"\n",
    "    A robust check if the patch will proceed without any errors.\n",
    "    Should be run after `is_valid_patch_format()`: the patch\n",
    "    command can hang if the inputs are sufficiently invalid.\n",
    "\n",
    "    Args:\n",
    "        patch_path: Path to a file containing the patch.\n",
    "        repo_path: Path to the directory to be patched.\n",
    "        timeout: Number of seconds before the dry run will be cancelled.\n",
    "    \"\"\"\n",
    "    cmd = f\"patch --quiet --dry-run -p1 -i {patch_path} -d {repo_path}\"\n",
    "    try:\n",
    "        subprocess.run(cmd, shell=True, check=True, timeout=timeout)\n",
    "        return True\n",
    "    except subprocess.CalledProcessError:\n",
    "        return False"
   ]
  },
  {
   "cell_type": "code",
   "execution_count": 3,
   "id": "45e70f99",
   "metadata": {
    "execution": {
     "iopub.execute_input": "2025-01-17T04:18:04.828375Z",
     "iopub.status.busy": "2025-01-17T04:18:04.827975Z",
     "iopub.status.idle": "2025-01-17T04:18:04.835509Z",
     "shell.execute_reply": "2025-01-17T04:18:04.834470Z"
    },
    "papermill": {
     "duration": 0.012769,
     "end_time": "2025-01-17T04:18:04.837952",
     "exception": false,
     "start_time": "2025-01-17T04:18:04.825183",
     "status": "completed"
    },
    "tags": []
   },
   "outputs": [
    {
     "data": {
      "text/plain": [
       "False"
      ]
     },
     "execution_count": 3,
     "metadata": {},
     "output_type": "execute_result"
    }
   ],
   "source": [
    "# This should demo patch should fail.\n",
    "is_valid_patch_format('Hullo world')"
   ]
  },
  {
   "cell_type": "code",
   "execution_count": null,
   "id": "c5fe1240",
   "metadata": {
    "papermill": {
     "duration": 0.001713,
     "end_time": "2025-01-17T04:18:04.841918",
     "exception": false,
     "start_time": "2025-01-17T04:18:04.840205",
     "status": "completed"
    },
    "tags": []
   },
   "outputs": [],
   "source": []
  }
 ],
 "metadata": {
  "kaggle": {
   "accelerator": "none",
   "dataSources": [
    {
     "databundleVersionId": 10820784,
     "sourceId": 84795,
     "sourceType": "competition"
    }
   ],
   "dockerImageVersionId": 30804,
   "isGpuEnabled": false,
   "isInternetEnabled": false,
   "language": "python",
   "sourceType": "notebook"
  },
  "kernelspec": {
   "display_name": "Python 3",
   "language": "python",
   "name": "python3"
  },
  "language_info": {
   "codemirror_mode": {
    "name": "ipython",
    "version": 3
   },
   "file_extension": ".py",
   "mimetype": "text/x-python",
   "name": "python",
   "nbconvert_exporter": "python",
   "pygments_lexer": "ipython3",
   "version": "3.10.14"
  },
  "papermill": {
   "default_parameters": {},
   "duration": 15.983581,
   "end_time": "2025-01-17T04:18:05.263629",
   "environment_variables": {},
   "exception": null,
   "input_path": "__notebook__.ipynb",
   "output_path": "__notebook__.ipynb",
   "parameters": {},
   "start_time": "2025-01-17T04:17:49.280048",
   "version": "2.6.0"
  }
 },
 "nbformat": 4,
 "nbformat_minor": 5
}
