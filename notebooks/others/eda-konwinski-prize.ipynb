{
 "cells": [
  {
   "cell_type": "code",
   "execution_count": 1,
   "id": "67819dce",
   "metadata": {
    "_cell_guid": "b1076dfc-b9ad-4769-8c92-a6c4dae69d19",
    "_uuid": "8f2839f25d086af736a60e9eeb907d3b93b6e0e5",
    "execution": {
     "iopub.execute_input": "2024-12-28T19:10:42.756425Z",
     "iopub.status.busy": "2024-12-28T19:10:42.755985Z",
     "iopub.status.idle": "2024-12-28T19:10:43.157107Z",
     "shell.execute_reply": "2024-12-28T19:10:43.155821Z"
    },
    "papermill": {
     "duration": 0.408099,
     "end_time": "2024-12-28T19:10:43.159125",
     "exception": false,
     "start_time": "2024-12-28T19:10:42.751026",
     "status": "completed"
    },
    "tags": []
   },
   "outputs": [],
   "source": [
    "import pandas as pd\n",
    "from pathlib import Path\n",
    "import re\n",
    "import matplotlib.pyplot as plt\n",
    "import os"
   ]
  },
  {
   "cell_type": "code",
   "execution_count": 2,
   "id": "95f749f7",
   "metadata": {
    "execution": {
     "iopub.execute_input": "2024-12-28T19:10:43.167397Z",
     "iopub.status.busy": "2024-12-28T19:10:43.166883Z",
     "iopub.status.idle": "2024-12-28T19:10:43.172313Z",
     "shell.execute_reply": "2024-12-28T19:10:43.171263Z"
    },
    "papermill": {
     "duration": 0.01138,
     "end_time": "2024-12-28T19:10:43.174137",
     "exception": false,
     "start_time": "2024-12-28T19:10:43.162757",
     "status": "completed"
    },
    "tags": []
   },
   "outputs": [],
   "source": [
    "class Config:\n",
    "    base_pth = Path('/kaggle/input/konwinski-prize')\n",
    "    datazip_pth = Path('/kaggle/input/konwinski-prize/data')\n",
    "    working_pth = Path('/kaggle/working')\n",
    "    repo_pth = Path('/kaggle/working')\n",
    "    data_pth = Path('/kaggle/working/data')\n",
    "    repo_pth = Path('/kaggle/working/data/repos')"
   ]
  },
  {
   "cell_type": "code",
   "execution_count": 3,
   "id": "4cbc80cf",
   "metadata": {
    "execution": {
     "iopub.execute_input": "2024-12-28T19:10:43.181314Z",
     "iopub.status.busy": "2024-12-28T19:10:43.180903Z",
     "iopub.status.idle": "2024-12-28T19:10:47.143378Z",
     "shell.execute_reply": "2024-12-28T19:10:47.141981Z"
    },
    "papermill": {
     "duration": 3.968335,
     "end_time": "2024-12-28T19:10:47.145434",
     "exception": false,
     "start_time": "2024-12-28T19:10:43.177099",
     "status": "completed"
    },
    "tags": []
   },
   "outputs": [],
   "source": [
    "!unzip -q /kaggle/input/konwinski-prize/data.a_zip"
   ]
  },
  {
   "cell_type": "code",
   "execution_count": 4,
   "id": "6f2de3d9",
   "metadata": {
    "execution": {
     "iopub.execute_input": "2024-12-28T19:10:47.152648Z",
     "iopub.status.busy": "2024-12-28T19:10:47.152191Z",
     "iopub.status.idle": "2024-12-28T19:10:47.339180Z",
     "shell.execute_reply": "2024-12-28T19:10:47.337825Z"
    },
    "papermill": {
     "duration": 0.192855,
     "end_time": "2024-12-28T19:10:47.341256",
     "exception": false,
     "start_time": "2024-12-28T19:10:47.148401",
     "status": "completed"
    },
    "tags": []
   },
   "outputs": [
    {
     "data": {
      "text/html": [
       "<div>\n",
       "<style scoped>\n",
       "    .dataframe tbody tr th:only-of-type {\n",
       "        vertical-align: middle;\n",
       "    }\n",
       "\n",
       "    .dataframe tbody tr th {\n",
       "        vertical-align: top;\n",
       "    }\n",
       "\n",
       "    .dataframe thead th {\n",
       "        text-align: right;\n",
       "    }\n",
       "</style>\n",
       "<table border=\"1\" class=\"dataframe\">\n",
       "  <thead>\n",
       "    <tr style=\"text-align: right;\">\n",
       "      <th></th>\n",
       "      <th>instance_id</th>\n",
       "      <th>repo</th>\n",
       "      <th>problem_statement</th>\n",
       "      <th>patch</th>\n",
       "      <th>test_patch</th>\n",
       "      <th>pull_number</th>\n",
       "      <th>base_commit</th>\n",
       "      <th>PASS_TO_PASS</th>\n",
       "      <th>FAIL_TO_PASS</th>\n",
       "      <th>issue_numbers</th>\n",
       "    </tr>\n",
       "  </thead>\n",
       "  <tbody>\n",
       "    <tr>\n",
       "      <th>0</th>\n",
       "      <td>pylint-dev__astroid-2496</td>\n",
       "      <td>pylint-dev/astroid</td>\n",
       "      <td>TypeError: unsupported format string passed to...</td>\n",
       "      <td>diff --git a/ChangeLog b/ChangeLog\\nindex 4560...</td>\n",
       "      <td>diff --git a/tests/test_inference.py b/tests/t...</td>\n",
       "      <td>2496</td>\n",
       "      <td>8d3cdbbe6685fd8cf211816bec56c90f38f1859e</td>\n",
       "      <td>[tests/test_inference.py::InferenceUtilsTest::...</td>\n",
       "      <td>[tests/test_inference.py::test_formatted_fstri...</td>\n",
       "      <td>[2492]</td>\n",
       "    </tr>\n",
       "    <tr>\n",
       "      <th>1</th>\n",
       "      <td>pylint-dev__astroid-2468</td>\n",
       "      <td>pylint-dev/astroid</td>\n",
       "      <td>Pylint checks against incorrect type with prop...</td>\n",
       "      <td>diff --git a/ChangeLog b/ChangeLog\\nindex fdbb...</td>\n",
       "      <td>diff --git a/tests/test_inference.py b/tests/t...</td>\n",
       "      <td>2468</td>\n",
       "      <td>6db3a60553ff538a936d5dda23d67a3924a57f45</td>\n",
       "      <td>[tests/test_inference.py::InferenceUtilsTest::...</td>\n",
       "      <td>[tests/test_inference.py::InferenceTest::test_...</td>\n",
       "      <td>[2467]</td>\n",
       "    </tr>\n",
       "    <tr>\n",
       "      <th>2</th>\n",
       "      <td>astropy__astropy-17048</td>\n",
       "      <td>astropy/astropy</td>\n",
       "      <td>QTable cannot take `dimensionless_unscaled` wh...</td>\n",
       "      <td>diff --git a/astropy/table/table.py b/astropy/...</td>\n",
       "      <td>diff --git a/astropy/table/tests/test_table.py...</td>\n",
       "      <td>17048</td>\n",
       "      <td>d60f6b72cd525262bfd179331d9fe4474177918f</td>\n",
       "      <td>[astropy/table/tests/test_table.py::TestSetTab...</td>\n",
       "      <td>[astropy/table/tests/test_table.py::test_qtabl...</td>\n",
       "      <td>[17047]</td>\n",
       "    </tr>\n",
       "    <tr>\n",
       "      <th>3</th>\n",
       "      <td>astropy__astropy-16898</td>\n",
       "      <td>astropy/astropy</td>\n",
       "      <td>BUG: tables do not deal well with zero-sized s...</td>\n",
       "      <td>diff --git a/astropy/io/registry/core.py b/ast...</td>\n",
       "      <td>diff --git a/astropy/io/fits/tests/test_connec...</td>\n",
       "      <td>16898</td>\n",
       "      <td>ee6d087baf301c1d08db92e6e5b6d909d57e6fac</td>\n",
       "      <td>[astropy/io/fits/tests/test_connect.py::TestSi...</td>\n",
       "      <td>[astropy/io/fits/tests/test_connect.py::test_z...</td>\n",
       "      <td>[16897]</td>\n",
       "    </tr>\n",
       "    <tr>\n",
       "      <th>4</th>\n",
       "      <td>astropy__astropy-16830</td>\n",
       "      <td>astropy/astropy</td>\n",
       "      <td>KeyError: 'version_1_3_or_later' when parsing ...</td>\n",
       "      <td>diff --git a/astropy/io/votable/tree.py b/astr...</td>\n",
       "      <td>diff --git a/astropy/io/votable/tests/test_tre...</td>\n",
       "      <td>16830</td>\n",
       "      <td>e39f486fec48d87aa3677326167954370d7a7bf9</td>\n",
       "      <td>[astropy/io/votable/tests/test_tree.py::test_c...</td>\n",
       "      <td>[astropy/io/votable/tests/test_tree.py::test_v...</td>\n",
       "      <td>[16825, 16826]</td>\n",
       "    </tr>\n",
       "    <tr>\n",
       "      <th>5</th>\n",
       "      <td>astropy__astropy-16812</td>\n",
       "      <td>astropy/astropy</td>\n",
       "      <td>Provide a way to make a copy of a model with d...</td>\n",
       "      <td>diff --git a/astropy/modeling/core.py b/astrop...</td>\n",
       "      <td>diff --git a/astropy/modeling/tests/test_core....</td>\n",
       "      <td>16812</td>\n",
       "      <td>c241103c11954d3c1cfe3c1840b1ece72479c522</td>\n",
       "      <td>[astropy/modeling/tests/test_core.py::test_Mod...</td>\n",
       "      <td>[astropy/modeling/tests/test_core.py::test_res...</td>\n",
       "      <td>[16593]</td>\n",
       "    </tr>\n",
       "  </tbody>\n",
       "</table>\n",
       "</div>"
      ],
      "text/plain": [
       "                instance_id                repo  \\\n",
       "0  pylint-dev__astroid-2496  pylint-dev/astroid   \n",
       "1  pylint-dev__astroid-2468  pylint-dev/astroid   \n",
       "2    astropy__astropy-17048     astropy/astropy   \n",
       "3    astropy__astropy-16898     astropy/astropy   \n",
       "4    astropy__astropy-16830     astropy/astropy   \n",
       "5    astropy__astropy-16812     astropy/astropy   \n",
       "\n",
       "                                   problem_statement  \\\n",
       "0  TypeError: unsupported format string passed to...   \n",
       "1  Pylint checks against incorrect type with prop...   \n",
       "2  QTable cannot take `dimensionless_unscaled` wh...   \n",
       "3  BUG: tables do not deal well with zero-sized s...   \n",
       "4  KeyError: 'version_1_3_or_later' when parsing ...   \n",
       "5  Provide a way to make a copy of a model with d...   \n",
       "\n",
       "                                               patch  \\\n",
       "0  diff --git a/ChangeLog b/ChangeLog\\nindex 4560...   \n",
       "1  diff --git a/ChangeLog b/ChangeLog\\nindex fdbb...   \n",
       "2  diff --git a/astropy/table/table.py b/astropy/...   \n",
       "3  diff --git a/astropy/io/registry/core.py b/ast...   \n",
       "4  diff --git a/astropy/io/votable/tree.py b/astr...   \n",
       "5  diff --git a/astropy/modeling/core.py b/astrop...   \n",
       "\n",
       "                                          test_patch  pull_number  \\\n",
       "0  diff --git a/tests/test_inference.py b/tests/t...         2496   \n",
       "1  diff --git a/tests/test_inference.py b/tests/t...         2468   \n",
       "2  diff --git a/astropy/table/tests/test_table.py...        17048   \n",
       "3  diff --git a/astropy/io/fits/tests/test_connec...        16898   \n",
       "4  diff --git a/astropy/io/votable/tests/test_tre...        16830   \n",
       "5  diff --git a/astropy/modeling/tests/test_core....        16812   \n",
       "\n",
       "                                base_commit  \\\n",
       "0  8d3cdbbe6685fd8cf211816bec56c90f38f1859e   \n",
       "1  6db3a60553ff538a936d5dda23d67a3924a57f45   \n",
       "2  d60f6b72cd525262bfd179331d9fe4474177918f   \n",
       "3  ee6d087baf301c1d08db92e6e5b6d909d57e6fac   \n",
       "4  e39f486fec48d87aa3677326167954370d7a7bf9   \n",
       "5  c241103c11954d3c1cfe3c1840b1ece72479c522   \n",
       "\n",
       "                                        PASS_TO_PASS  \\\n",
       "0  [tests/test_inference.py::InferenceUtilsTest::...   \n",
       "1  [tests/test_inference.py::InferenceUtilsTest::...   \n",
       "2  [astropy/table/tests/test_table.py::TestSetTab...   \n",
       "3  [astropy/io/fits/tests/test_connect.py::TestSi...   \n",
       "4  [astropy/io/votable/tests/test_tree.py::test_c...   \n",
       "5  [astropy/modeling/tests/test_core.py::test_Mod...   \n",
       "\n",
       "                                        FAIL_TO_PASS   issue_numbers  \n",
       "0  [tests/test_inference.py::test_formatted_fstri...          [2492]  \n",
       "1  [tests/test_inference.py::InferenceTest::test_...          [2467]  \n",
       "2  [astropy/table/tests/test_table.py::test_qtabl...         [17047]  \n",
       "3  [astropy/io/fits/tests/test_connect.py::test_z...         [16897]  \n",
       "4  [astropy/io/votable/tests/test_tree.py::test_v...  [16825, 16826]  \n",
       "5  [astropy/modeling/tests/test_core.py::test_res...         [16593]  "
      ]
     },
     "execution_count": 4,
     "metadata": {},
     "output_type": "execute_result"
    }
   ],
   "source": [
    "df = pd.read_parquet(Config.working_pth / \"data/data.parquet\")\n",
    "df"
   ]
  },
  {
   "cell_type": "code",
   "execution_count": 5,
   "id": "195e6e30",
   "metadata": {
    "execution": {
     "iopub.execute_input": "2024-12-28T19:10:47.350208Z",
     "iopub.status.busy": "2024-12-28T19:10:47.349492Z",
     "iopub.status.idle": "2024-12-28T19:10:47.546631Z",
     "shell.execute_reply": "2024-12-28T19:10:47.545293Z"
    },
    "papermill": {
     "duration": 0.205156,
     "end_time": "2024-12-28T19:10:47.550180",
     "exception": false,
     "start_time": "2024-12-28T19:10:47.345024",
     "status": "completed"
    },
    "tags": []
   },
   "outputs": [
    {
     "data": {
      "image/png": "[encoded data removed]",
      "text/plain": [
       "<Figure size 640x480 with 1 Axes>"
      ]
     },
     "metadata": {},
     "output_type": "display_data"
    }
   ],
   "source": [
    "cntr = {}\n",
    "\n",
    "for i in df['instance_id']:\n",
    "    x = re.search(\"(.*)-\\d+\", i)\n",
    "    if x:\n",
    "        repo_name = x.group(1)\n",
    "        if repo_name not in cntr:\n",
    "            cntr[repo_name] = 1\n",
    "        else:\n",
    "            cntr[repo_name] += 1\n",
    "\n",
    "vals = list(cntr.values())\n",
    "keys = list(cntr.keys())\n",
    "p, tx, autotexts = plt.pie([float(v) for v in vals], labels=[str(k) for k in keys], autopct='%1.1f%%', shadow=True)\n",
    "\n",
    "for i, a in enumerate(autotexts):\n",
    "    a.set_text(\"{}\".format(vals[i]))"
   ]
  },
  {
   "cell_type": "markdown",
   "id": "1ced696b",
   "metadata": {
    "papermill": {
     "duration": 0.005822,
     "end_time": "2024-12-28T19:10:47.562608",
     "exception": false,
     "start_time": "2024-12-28T19:10:47.556786",
     "status": "completed"
    },
    "tags": []
   },
   "source": [
    "The above pie chart shows the distinct repos that are present in the input data along with the count of states for the repo.\n",
    "\n",
    "What is the meaning of state?<br/>\n",
    "Git is a version control software. A repository managed by Git will have iterations of edits stacked on top of each other. Each iteration is called a commit in Git world. State refers to the state of all the files at the time when the patch was applied on them. Applying the patch mutates the state of the repo."
   ]
  },
  {
   "cell_type": "markdown",
   "id": "1aba0f4c",
   "metadata": {
    "papermill": {
     "duration": 0.005754,
     "end_time": "2024-12-28T19:10:47.574810",
     "exception": false,
     "start_time": "2024-12-28T19:10:47.569056",
     "status": "completed"
    },
    "tags": []
   },
   "source": [
    "# Repository sizes"
   ]
  },
  {
   "cell_type": "markdown",
   "id": "4e3f7e5b",
   "metadata": {
    "papermill": {
     "duration": 0.005871,
     "end_time": "2024-12-28T19:10:47.587003",
     "exception": false,
     "start_time": "2024-12-28T19:10:47.581132",
     "status": "completed"
    },
    "tags": []
   },
   "source": [
    "A git repository in the most normie sense is directory containing a bunch of files. Ideally one would want the LLM to know each and every line of code in every file of the repo. This is a challenge as repositories can have \"any\" number of files. The goal of this section is to put a number on \"any\"."
   ]
  },
  {
   "cell_type": "code",
   "execution_count": 6,
   "id": "5639e4a9",
   "metadata": {
    "execution": {
     "iopub.execute_input": "2024-12-28T19:10:47.601761Z",
     "iopub.status.busy": "2024-12-28T19:10:47.600884Z",
     "iopub.status.idle": "2024-12-28T19:10:48.352414Z",
     "shell.execute_reply": "2024-12-28T19:10:48.351295Z"
    },
    "papermill": {
     "duration": 0.762131,
     "end_time": "2024-12-28T19:10:48.355337",
     "exception": false,
     "start_time": "2024-12-28T19:10:47.593206",
     "status": "completed"
    },
    "tags": []
   },
   "outputs": [
    {
     "data": {
      "text/html": [
       "<div>\n",
       "<style scoped>\n",
       "    .dataframe tbody tr th:only-of-type {\n",
       "        vertical-align: middle;\n",
       "    }\n",
       "\n",
       "    .dataframe tbody tr th {\n",
       "        vertical-align: top;\n",
       "    }\n",
       "\n",
       "    .dataframe thead th {\n",
       "        text-align: right;\n",
       "    }\n",
       "</style>\n",
       "<table border=\"1\" class=\"dataframe\">\n",
       "  <thead>\n",
       "    <tr style=\"text-align: right;\">\n",
       "      <th></th>\n",
       "      <th>Repo state</th>\n",
       "      <th>File count</th>\n",
       "      <th>Line count</th>\n",
       "    </tr>\n",
       "  </thead>\n",
       "  <tbody>\n",
       "    <tr>\n",
       "      <th>0</th>\n",
       "      <td>repo__pylint-dev__astroid-2468</td>\n",
       "      <td>314</td>\n",
       "      <td>68094</td>\n",
       "    </tr>\n",
       "    <tr>\n",
       "      <th>1</th>\n",
       "      <td>repo__astropy__astropy-16830</td>\n",
       "      <td>1852</td>\n",
       "      <td>724683</td>\n",
       "    </tr>\n",
       "    <tr>\n",
       "      <th>2</th>\n",
       "      <td>repo__pylint-dev__astroid-2496</td>\n",
       "      <td>313</td>\n",
       "      <td>68244</td>\n",
       "    </tr>\n",
       "    <tr>\n",
       "      <th>3</th>\n",
       "      <td>repo__astropy__astropy-16812</td>\n",
       "      <td>1847</td>\n",
       "      <td>724601</td>\n",
       "    </tr>\n",
       "    <tr>\n",
       "      <th>4</th>\n",
       "      <td>repo__astropy__astropy-16898</td>\n",
       "      <td>1861</td>\n",
       "      <td>724959</td>\n",
       "    </tr>\n",
       "    <tr>\n",
       "      <th>5</th>\n",
       "      <td>repo__astropy__astropy-17048</td>\n",
       "      <td>1879</td>\n",
       "      <td>728356</td>\n",
       "    </tr>\n",
       "  </tbody>\n",
       "</table>\n",
       "</div>"
      ],
      "text/plain": [
       "                       Repo state  File count  Line count\n",
       "0  repo__pylint-dev__astroid-2468         314       68094\n",
       "1    repo__astropy__astropy-16830        1852      724683\n",
       "2  repo__pylint-dev__astroid-2496         313       68244\n",
       "3    repo__astropy__astropy-16812        1847      724601\n",
       "4    repo__astropy__astropy-16898        1861      724959\n",
       "5    repo__astropy__astropy-17048        1879      728356"
      ]
     },
     "execution_count": 6,
     "metadata": {},
     "output_type": "execute_result"
    }
   ],
   "source": [
    "file_cnt = {\"Repo state\": [], \"File count\": [], \"Line count\": []}\n",
    "\n",
    "for repo_state in os.listdir(Config.repo_pth):\n",
    "    fc = 0\n",
    "    lc = 0\n",
    "    for r, d, files in os.walk(Config.repo_pth / repo_state): \n",
    "        fc += len(files)\n",
    "        for file in files:\n",
    "            try:\n",
    "                lc += sum(1 for _ in open(f'{r}/{file}'))\n",
    "            except:\n",
    "                pass\n",
    "    file_cnt[\"Repo state\"].append(repo_state)\n",
    "    file_cnt[\"File count\"].append(fc)\n",
    "    file_cnt[\"Line count\"].append(lc)\n",
    "\n",
    "file_cnt_df = pd.DataFrame(file_cnt)\n",
    "file_cnt_df"
   ]
  },
  {
   "cell_type": "markdown",
   "id": "5c3ec9a5",
   "metadata": {
    "papermill": {
     "duration": 0.005941,
     "end_time": "2024-12-28T19:10:48.384213",
     "exception": false,
     "start_time": "2024-12-28T19:10:48.378272",
     "status": "completed"
    },
    "tags": []
   },
   "source": [
    "Gemini pro 1.5 is the current leader in the number of context tokens that it can take in standing at 1M. ([ref](https://token-calculator.net/))\n",
    "\n",
    "1M context token roughly translates to 50,000 lines of code ([ref](https://ai.google.dev/gemini-api/docs/long-context)) which is less than the least that we are seeing in the sample input."
   ]
  }
 ],
 "metadata": {
  "kaggle": {
   "accelerator": "none",
   "dataSources": [
    {
     "databundleVersionId": 10462807,
     "sourceId": 84795,
     "sourceType": "competition"
    }
   ],
   "dockerImageVersionId": 30822,
   "isGpuEnabled": false,
   "isInternetEnabled": false,
   "language": "python",
   "sourceType": "notebook"
  },
  "kernelspec": {
   "display_name": "Python 3",
   "language": "python",
   "name": "python3"
  },
  "language_info": {
   "codemirror_mode": {
    "name": "ipython",
    "version": 3
   },
   "file_extension": ".py",
   "mimetype": "text/x-python",
   "name": "python",
   "nbconvert_exporter": "python",
   "pygments_lexer": "ipython3",
   "version": "3.10.12"
  },
  "papermill": {
   "default_parameters": {},
   "duration": 8.606668,
   "end_time": "2024-12-28T19:10:49.040708",
   "environment_variables": {},
   "exception": null,
   "input_path": "__notebook__.ipynb",
   "output_path": "__notebook__.ipynb",
   "parameters": {},
   "start_time": "2024-12-28T19:10:40.434040",
   "version": "2.6.0"
  }
 },
 "nbformat": 4,
 "nbformat_minor": 5
}
