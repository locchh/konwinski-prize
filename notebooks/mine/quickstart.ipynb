{
 "cells": [
  {
   "cell_type": "markdown",
   "id": "2ff1cd1c-8690-486a-91bd-030cd1fff263",
   "metadata": {},
   "source": [
    "### Table of Content\n",
    "- [Load dataset](#load-dataset)\n",
    "- [Exploratory Data Analysis](#Exploratory-Data-Analysis)\n",
    "- [Setup LLM](#Setup-LLM)\n",
    "- [Analyze repo issues & Retrieve relevant codes](#Analyze-repo-issues-&-Retrieve-relevant-codes)\n",
    "- [Validate patches](#Validate-patches)"
   ]
  },
  {
   "cell_type": "code",
   "execution_count": 1,
   "id": "3b466434-686b-4dc6-94c3-5ee4be10ae7e",
   "metadata": {},
   "outputs": [],
   "source": [
    "import os\n",
    "import pandas as pd\n",
    "\n",
    "# Define paths\n",
    "comp_dir = \"konwinski-prize\"\n",
    "comp_kaggle_evaluation_dir = os.path.join(comp_dir, \"kaggle_evaluation\")\n",
    "comp_kprize_setup_dir = os.path.join(comp_dir, \"kprize_setup\")\n",
    "\n",
    "comp_data_zip_path = os.path.join(comp_dir, \"data.a_zip\")\n",
    "comp_data_dir = os.path.join(comp_dir, \"data\")\n",
    "comp_data_parquet_path = os.path.join(comp_data_dir, \"data.parquet\")\n",
    "comp_conda_packages_dir = os.path.join(comp_data_dir, \"conda_packages\")\n",
    "comp_pip_packages_dir = os.path.join(comp_data_dir, \"pip_packages\")\n",
    "comp_repo_configs_dir = os.path.join(comp_data_dir, \"repo_configs\")\n",
    "comp_repos_dir = os.path.join(comp_data_dir, \"repos\")"
   ]
  },
  {
   "cell_type": "markdown",
   "id": "5b7459b0-9925-4d67-9ad3-8d8301a5d106",
   "metadata": {},
   "source": [
    "### Load dataset\n",
    "\n",
    "From the competition readme and our earlier investigation we know that the dataframe contains the following:\n",
    "\n",
    "**instance_id (string)**\n",
    "- Unique string identifier for each instance (GitHub issue)\n",
    "\n",
    "**repo (string)**\n",
    "- The GitHub repository relevant to the issue\n",
    "- Also accessible through the evaluation API\n",
    "\n",
    "**problem_statement (string)**\n",
    "- Textual description of the issue\n",
    "- Also accessible through the evaluation API\n",
    "\n",
    "**patch (string)**\n",
    "- The patch that resolves the issue\n",
    "- Only provided in the train set\n",
    "\n",
    "**test_patch (string)**\n",
    "- The patch that resolves the issue\n",
    "- Only provided in the train set\n",
    "\n",
    "**pull_number (int)**\n",
    "- The pull request number that resolved the issue\n",
    "\n",
    "**base_commit (string)**\n",
    "- The commit used as the foundation for the provided repository copy\n",
    "\n",
    "**issue_numbers (int)**\n",
    "- The original ID number of the GitHub issue\n",
    "\n",
    "**[PASS_TO_PASS/FAIL_TO_PASS] (list)**\n",
    "- Lists containing unit tests to be executed for this issue\n"
   ]
  },
  {
   "cell_type": "code",
   "execution_count": 2,
   "id": "6c81e9c3-6b70-487f-b8f0-ecd4fe4e7958",
   "metadata": {},
   "outputs": [
    {
     "data": {
      "text/html": [
       "<div>\n",
       "<style scoped>\n",
       "    .dataframe tbody tr th:only-of-type {\n",
       "        vertical-align: middle;\n",
       "    }\n",
       "\n",
       "    .dataframe tbody tr th {\n",
       "        vertical-align: top;\n",
       "    }\n",
       "\n",
       "    .dataframe thead th {\n",
       "        text-align: right;\n",
       "    }\n",
       "</style>\n",
       "<table border=\"1\" class=\"dataframe\">\n",
       "  <thead>\n",
       "    <tr style=\"text-align: right;\">\n",
       "      <th></th>\n",
       "      <th>instance_id</th>\n",
       "      <th>repo</th>\n",
       "      <th>problem_statement</th>\n",
       "      <th>patch</th>\n",
       "      <th>test_patch</th>\n",
       "      <th>pull_number</th>\n",
       "      <th>base_commit</th>\n",
       "      <th>PASS_TO_PASS</th>\n",
       "      <th>FAIL_TO_PASS</th>\n",
       "      <th>issue_numbers</th>\n",
       "    </tr>\n",
       "  </thead>\n",
       "  <tbody>\n",
       "    <tr>\n",
       "      <th>0</th>\n",
       "      <td>pylint-dev__astroid-2496</td>\n",
       "      <td>pylint-dev/astroid</td>\n",
       "      <td>TypeError: unsupported format string passed to...</td>\n",
       "      <td>diff --git a/ChangeLog b/ChangeLog\\nindex 4560...</td>\n",
       "      <td>diff --git a/tests/test_inference.py b/tests/t...</td>\n",
       "      <td>2496</td>\n",
       "      <td>8d3cdbbe6685fd8cf211816bec56c90f38f1859e</td>\n",
       "      <td>[tests/test_inference.py::InferenceUtilsTest::...</td>\n",
       "      <td>[tests/test_inference.py::test_formatted_fstri...</td>\n",
       "      <td>[2492]</td>\n",
       "    </tr>\n",
       "    <tr>\n",
       "      <th>1</th>\n",
       "      <td>pylint-dev__astroid-2468</td>\n",
       "      <td>pylint-dev/astroid</td>\n",
       "      <td>Pylint checks against incorrect type with prop...</td>\n",
       "      <td>diff --git a/ChangeLog b/ChangeLog\\nindex fdbb...</td>\n",
       "      <td>diff --git a/tests/test_inference.py b/tests/t...</td>\n",
       "      <td>2468</td>\n",
       "      <td>6db3a60553ff538a936d5dda23d67a3924a57f45</td>\n",
       "      <td>[tests/test_inference.py::InferenceUtilsTest::...</td>\n",
       "      <td>[tests/test_inference.py::InferenceTest::test_...</td>\n",
       "      <td>[2467]</td>\n",
       "    </tr>\n",
       "    <tr>\n",
       "      <th>2</th>\n",
       "      <td>astropy__astropy-17048</td>\n",
       "      <td>astropy/astropy</td>\n",
       "      <td>QTable cannot take `dimensionless_unscaled` wh...</td>\n",
       "      <td>diff --git a/astropy/table/table.py b/astropy/...</td>\n",
       "      <td>diff --git a/astropy/table/tests/test_table.py...</td>\n",
       "      <td>17048</td>\n",
       "      <td>d60f6b72cd525262bfd179331d9fe4474177918f</td>\n",
       "      <td>[astropy/table/tests/test_table.py::TestSetTab...</td>\n",
       "      <td>[astropy/table/tests/test_table.py::test_qtabl...</td>\n",
       "      <td>[17047]</td>\n",
       "    </tr>\n",
       "    <tr>\n",
       "      <th>3</th>\n",
       "      <td>astropy__astropy-16898</td>\n",
       "      <td>astropy/astropy</td>\n",
       "      <td>BUG: tables do not deal well with zero-sized s...</td>\n",
       "      <td>diff --git a/astropy/io/registry/core.py b/ast...</td>\n",
       "      <td>diff --git a/astropy/io/fits/tests/test_connec...</td>\n",
       "      <td>16898</td>\n",
       "      <td>ee6d087baf301c1d08db92e6e5b6d909d57e6fac</td>\n",
       "      <td>[astropy/io/fits/tests/test_connect.py::TestSi...</td>\n",
       "      <td>[astropy/io/fits/tests/test_connect.py::test_z...</td>\n",
       "      <td>[16897]</td>\n",
       "    </tr>\n",
       "    <tr>\n",
       "      <th>4</th>\n",
       "      <td>astropy__astropy-16830</td>\n",
       "      <td>astropy/astropy</td>\n",
       "      <td>KeyError: 'version_1_3_or_later' when parsing ...</td>\n",
       "      <td>diff --git a/astropy/io/votable/tree.py b/astr...</td>\n",
       "      <td>diff --git a/astropy/io/votable/tests/test_tre...</td>\n",
       "      <td>16830</td>\n",
       "      <td>e39f486fec48d87aa3677326167954370d7a7bf9</td>\n",
       "      <td>[astropy/io/votable/tests/test_tree.py::test_c...</td>\n",
       "      <td>[astropy/io/votable/tests/test_tree.py::test_v...</td>\n",
       "      <td>[16825, 16826]</td>\n",
       "    </tr>\n",
       "    <tr>\n",
       "      <th>5</th>\n",
       "      <td>astropy__astropy-16812</td>\n",
       "      <td>astropy/astropy</td>\n",
       "      <td>Provide a way to make a copy of a model with d...</td>\n",
       "      <td>diff --git a/astropy/modeling/core.py b/astrop...</td>\n",
       "      <td>diff --git a/astropy/modeling/tests/test_core....</td>\n",
       "      <td>16812</td>\n",
       "      <td>c241103c11954d3c1cfe3c1840b1ece72479c522</td>\n",
       "      <td>[astropy/modeling/tests/test_core.py::test_Mod...</td>\n",
       "      <td>[astropy/modeling/tests/test_core.py::test_res...</td>\n",
       "      <td>[16593]</td>\n",
       "    </tr>\n",
       "  </tbody>\n",
       "</table>\n",
       "</div>"
      ],
      "text/plain": [
       "                instance_id                repo  \\\n",
       "0  pylint-dev__astroid-2496  pylint-dev/astroid   \n",
       "1  pylint-dev__astroid-2468  pylint-dev/astroid   \n",
       "2    astropy__astropy-17048     astropy/astropy   \n",
       "3    astropy__astropy-16898     astropy/astropy   \n",
       "4    astropy__astropy-16830     astropy/astropy   \n",
       "5    astropy__astropy-16812     astropy/astropy   \n",
       "\n",
       "                                   problem_statement  \\\n",
       "0  TypeError: unsupported format string passed to...   \n",
       "1  Pylint checks against incorrect type with prop...   \n",
       "2  QTable cannot take `dimensionless_unscaled` wh...   \n",
       "3  BUG: tables do not deal well with zero-sized s...   \n",
       "4  KeyError: 'version_1_3_or_later' when parsing ...   \n",
       "5  Provide a way to make a copy of a model with d...   \n",
       "\n",
       "                                               patch  \\\n",
       "0  diff --git a/ChangeLog b/ChangeLog\\nindex 4560...   \n",
       "1  diff --git a/ChangeLog b/ChangeLog\\nindex fdbb...   \n",
       "2  diff --git a/astropy/table/table.py b/astropy/...   \n",
       "3  diff --git a/astropy/io/registry/core.py b/ast...   \n",
       "4  diff --git a/astropy/io/votable/tree.py b/astr...   \n",
       "5  diff --git a/astropy/modeling/core.py b/astrop...   \n",
       "\n",
       "                                          test_patch  pull_number  \\\n",
       "0  diff --git a/tests/test_inference.py b/tests/t...         2496   \n",
       "1  diff --git a/tests/test_inference.py b/tests/t...         2468   \n",
       "2  diff --git a/astropy/table/tests/test_table.py...        17048   \n",
       "3  diff --git a/astropy/io/fits/tests/test_connec...        16898   \n",
       "4  diff --git a/astropy/io/votable/tests/test_tre...        16830   \n",
       "5  diff --git a/astropy/modeling/tests/test_core....        16812   \n",
       "\n",
       "                                base_commit  \\\n",
       "0  8d3cdbbe6685fd8cf211816bec56c90f38f1859e   \n",
       "1  6db3a60553ff538a936d5dda23d67a3924a57f45   \n",
       "2  d60f6b72cd525262bfd179331d9fe4474177918f   \n",
       "3  ee6d087baf301c1d08db92e6e5b6d909d57e6fac   \n",
       "4  e39f486fec48d87aa3677326167954370d7a7bf9   \n",
       "5  c241103c11954d3c1cfe3c1840b1ece72479c522   \n",
       "\n",
       "                                        PASS_TO_PASS  \\\n",
       "0  [tests/test_inference.py::InferenceUtilsTest::...   \n",
       "1  [tests/test_inference.py::InferenceUtilsTest::...   \n",
       "2  [astropy/table/tests/test_table.py::TestSetTab...   \n",
       "3  [astropy/io/fits/tests/test_connect.py::TestSi...   \n",
       "4  [astropy/io/votable/tests/test_tree.py::test_c...   \n",
       "5  [astropy/modeling/tests/test_core.py::test_Mod...   \n",
       "\n",
       "                                        FAIL_TO_PASS   issue_numbers  \n",
       "0  [tests/test_inference.py::test_formatted_fstri...          [2492]  \n",
       "1  [tests/test_inference.py::InferenceTest::test_...          [2467]  \n",
       "2  [astropy/table/tests/test_table.py::test_qtabl...         [17047]  \n",
       "3  [astropy/io/fits/tests/test_connect.py::test_z...         [16897]  \n",
       "4  [astropy/io/votable/tests/test_tree.py::test_v...  [16825, 16826]  \n",
       "5  [astropy/modeling/tests/test_core.py::test_res...         [16593]  "
      ]
     },
     "execution_count": 2,
     "metadata": {},
     "output_type": "execute_result"
    }
   ],
   "source": [
    "# Load dataset\n",
    "kprize_df = pd.read_parquet(comp_data_parquet_path)\n",
    "kprize_df"
   ]
  },
  {
   "cell_type": "markdown",
   "id": "a2fee599-d1de-4dcb-8a8f-3bbe8927a0ec",
   "metadata": {},
   "source": [
    "### Exploratory Data Analysis"
   ]
  },
  {
   "cell_type": "code",
   "execution_count": 3,
   "id": "3ab9a4d4-dc6e-45b3-8c69-d742818d6941",
   "metadata": {},
   "outputs": [],
   "source": [
    "from rich import print as rprint"
   ]
  },
  {
   "cell_type": "code",
   "execution_count": 4,
   "id": "bb617197-13dc-46be-af9a-2ddcc1b7a505",
   "metadata": {},
   "outputs": [
    {
     "data": {
      "text/html": [
       "<pre style=\"white-space:pre;overflow-x:auto;line-height:normal;font-family:Menlo,'DejaVu Sans Mono',consolas,'Courier New',monospace\">kprize_df.<span style=\"color: #808000; text-decoration-color: #808000\">shape</span>=<span style=\"font-weight: bold\">(</span><span style=\"color: #008080; text-decoration-color: #008080; font-weight: bold\">6</span>, <span style=\"color: #008080; text-decoration-color: #008080; font-weight: bold\">10</span><span style=\"font-weight: bold\">)</span>\n",
       "\n",
       "</pre>\n"
      ],
      "text/plain": [
       "kprize_df.\u001b[33mshape\u001b[0m=\u001b[1m(\u001b[0m\u001b[1;36m6\u001b[0m, \u001b[1;36m10\u001b[0m\u001b[1m)\u001b[0m\n",
       "\n"
      ]
     },
     "metadata": {},
     "output_type": "display_data"
    }
   ],
   "source": [
    "rprint(f\"{kprize_df.shape=}\\n\")"
   ]
  },
  {
   "cell_type": "code",
   "execution_count": 5,
   "id": "12806d8e-1b58-466e-9771-7e0a4ccc39fa",
   "metadata": {},
   "outputs": [
    {
     "data": {
      "text/html": [
       "<pre style=\"white-space:pre;overflow-x:auto;line-height:normal;font-family:Menlo,'DejaVu Sans Mono',consolas,'Courier New',monospace\">\n",
       "Any Missing Values?\n",
       "\n",
       "</pre>\n"
      ],
      "text/plain": [
       "\n",
       "Any Missing Values?\n",
       "\n"
      ]
     },
     "metadata": {},
     "output_type": "display_data"
    },
    {
     "data": {
      "text/html": [
       "<pre style=\"white-space:pre;overflow-x:auto;line-height:normal;font-family:Menlo,'DejaVu Sans Mono',consolas,'Courier New',monospace\">instance_id          <span style=\"color: #008080; text-decoration-color: #008080; font-weight: bold\">0</span>\n",
       "repo                 <span style=\"color: #008080; text-decoration-color: #008080; font-weight: bold\">0</span>\n",
       "problem_statement    <span style=\"color: #008080; text-decoration-color: #008080; font-weight: bold\">0</span>\n",
       "patch                <span style=\"color: #008080; text-decoration-color: #008080; font-weight: bold\">0</span>\n",
       "test_patch           <span style=\"color: #008080; text-decoration-color: #008080; font-weight: bold\">0</span>\n",
       "pull_number          <span style=\"color: #008080; text-decoration-color: #008080; font-weight: bold\">0</span>\n",
       "base_commit          <span style=\"color: #008080; text-decoration-color: #008080; font-weight: bold\">0</span>\n",
       "PASS_TO_PASS         <span style=\"color: #008080; text-decoration-color: #008080; font-weight: bold\">0</span>\n",
       "FAIL_TO_PASS         <span style=\"color: #008080; text-decoration-color: #008080; font-weight: bold\">0</span>\n",
       "issue_numbers        <span style=\"color: #008080; text-decoration-color: #008080; font-weight: bold\">0</span>\n",
       "dtype: int64\n",
       "</pre>\n"
      ],
      "text/plain": [
       "instance_id          \u001b[1;36m0\u001b[0m\n",
       "repo                 \u001b[1;36m0\u001b[0m\n",
       "problem_statement    \u001b[1;36m0\u001b[0m\n",
       "patch                \u001b[1;36m0\u001b[0m\n",
       "test_patch           \u001b[1;36m0\u001b[0m\n",
       "pull_number          \u001b[1;36m0\u001b[0m\n",
       "base_commit          \u001b[1;36m0\u001b[0m\n",
       "PASS_TO_PASS         \u001b[1;36m0\u001b[0m\n",
       "FAIL_TO_PASS         \u001b[1;36m0\u001b[0m\n",
       "issue_numbers        \u001b[1;36m0\u001b[0m\n",
       "dtype: int64\n"
      ]
     },
     "metadata": {},
     "output_type": "display_data"
    }
   ],
   "source": [
    "rprint(\"\\nAny Missing Values?\\n\")\n",
    "rprint(kprize_df.isnull().sum())"
   ]
  },
  {
   "cell_type": "code",
   "execution_count": 6,
   "id": "6916c378-97ec-4c73-a9d0-865b7ba3d1bc",
   "metadata": {},
   "outputs": [
    {
     "data": {
      "text/html": [
       "<pre style=\"white-space:pre;overflow-x:auto;line-height:normal;font-family:Menlo,'DejaVu Sans Mono',consolas,'Courier New',monospace\">\n",
       "Datatypes?\n",
       "\n",
       "</pre>\n"
      ],
      "text/plain": [
       "\n",
       "Datatypes?\n",
       "\n"
      ]
     },
     "metadata": {},
     "output_type": "display_data"
    },
    {
     "name": "stdout",
     "output_type": "stream",
     "text": [
      "<class 'pandas.core.frame.DataFrame'>\n",
      "RangeIndex: 6 entries, 0 to 5\n",
      "Data columns (total 10 columns):\n",
      " #   Column             Non-Null Count  Dtype \n",
      "---  ------             --------------  ----- \n",
      " 0   instance_id        6 non-null      object\n",
      " 1   repo               6 non-null      object\n",
      " 2   problem_statement  6 non-null      object\n",
      " 3   patch              6 non-null      object\n",
      " 4   test_patch         6 non-null      object\n",
      " 5   pull_number        6 non-null      int64 \n",
      " 6   base_commit        6 non-null      object\n",
      " 7   PASS_TO_PASS       6 non-null      object\n",
      " 8   FAIL_TO_PASS       6 non-null      object\n",
      " 9   issue_numbers      6 non-null      object\n",
      "dtypes: int64(1), object(9)\n",
      "memory usage: 608.0+ bytes\n"
     ]
    }
   ],
   "source": [
    "rprint(\"\\nDatatypes?\\n\")\n",
    "kprize_df.info(show_counts=True)"
   ]
  },
  {
   "cell_type": "code",
   "execution_count": 7,
   "id": "ea78470c-805d-40fd-8201-9b469e3c40f0",
   "metadata": {},
   "outputs": [
    {
     "data": {
      "text/html": [
       "<pre style=\"white-space:pre;overflow-x:auto;line-height:normal;font-family:Menlo,'DejaVu Sans Mono',consolas,'Courier New',monospace\">\n",
       "Repo Distribution?\n",
       "\n",
       "</pre>\n"
      ],
      "text/plain": [
       "\n",
       "Repo Distribution?\n",
       "\n"
      ]
     },
     "metadata": {},
     "output_type": "display_data"
    },
    {
     "data": {
      "text/html": [
       "<pre style=\"white-space:pre;overflow-x:auto;line-height:normal;font-family:Menlo,'DejaVu Sans Mono',consolas,'Courier New',monospace\">astropy/astropy       <span style=\"color: #008080; text-decoration-color: #008080; font-weight: bold\">4</span>\n",
       "pylint-dev/astroid    <span style=\"color: #008080; text-decoration-color: #008080; font-weight: bold\">2</span>\n",
       "Name: repo, dtype: int64\n",
       "</pre>\n"
      ],
      "text/plain": [
       "astropy/astropy       \u001b[1;36m4\u001b[0m\n",
       "pylint-dev/astroid    \u001b[1;36m2\u001b[0m\n",
       "Name: repo, dtype: int64\n"
      ]
     },
     "metadata": {},
     "output_type": "display_data"
    }
   ],
   "source": [
    "rprint(\"\\nRepo Distribution?\\n\")\n",
    "rprint(kprize_df['repo'].value_counts())"
   ]
  },
  {
   "cell_type": "code",
   "execution_count": 8,
   "id": "d1844943-3adc-4c01-80b0-69829368111b",
   "metadata": {},
   "outputs": [
    {
     "data": {
      "text/html": [
       "<pre style=\"white-space:pre;overflow-x:auto;line-height:normal;font-family:Menlo,'DejaVu Sans Mono',consolas,'Courier New',monospace\">\n",
       "Number of Issues per PR\n",
       "\n",
       "</pre>\n"
      ],
      "text/plain": [
       "\n",
       "Number of Issues per PR\n",
       "\n"
      ]
     },
     "metadata": {},
     "output_type": "display_data"
    },
    {
     "data": {
      "text/plain": [
       "1    5\n",
       "2    1\n",
       "Name: issue_numbers, dtype: int64"
      ]
     },
     "execution_count": 8,
     "metadata": {},
     "output_type": "execute_result"
    }
   ],
   "source": [
    "# Fixes can reference more than one GitHub issue.\n",
    "rprint(\"\\nNumber of Issues per PR\\n\")\n",
    "kprize_df[\"issue_numbers\"].apply(len).value_counts()"
   ]
  },
  {
   "cell_type": "code",
   "execution_count": 9,
   "id": "b857679a-817d-4512-bf5a-9d002b4bc9b5",
   "metadata": {},
   "outputs": [
    {
     "data": {
      "text/html": [
       "<pre style=\"white-space:pre;overflow-x:auto;line-height:normal;font-family:Menlo,'DejaVu Sans Mono',consolas,'Courier New',monospace\">\n",
       "Problem Statement Lengths\n",
       "\n",
       "</pre>\n"
      ],
      "text/plain": [
       "\n",
       "Problem Statement Lengths\n",
       "\n"
      ]
     },
     "metadata": {},
     "output_type": "display_data"
    },
    {
     "data": {
      "text/plain": [
       "count      6.000000\n",
       "mean     297.166667\n",
       "std      162.149828\n",
       "min       72.000000\n",
       "25%      171.750000\n",
       "50%      358.000000\n",
       "75%      407.000000\n",
       "max      462.000000\n",
       "Name: problem_statement_length, dtype: float64"
      ]
     },
     "metadata": {},
     "output_type": "display_data"
    }
   ],
   "source": [
    "kprize_df['problem_statement_length'] = kprize_df['problem_statement'].apply(lambda x: len(x.split()))\n",
    "rprint(\"\\nProblem Statement Lengths\\n\")\n",
    "display(kprize_df['problem_statement_length'].describe())"
   ]
  },
  {
   "cell_type": "code",
   "execution_count": 10,
   "id": "a3ef6e2e-bceb-45bc-9af8-0bdfbed8c9e9",
   "metadata": {},
   "outputs": [
    {
     "data": {
      "text/html": [
       "<pre style=\"white-space:pre;overflow-x:auto;line-height:normal;font-family:Menlo,'DejaVu Sans Mono',consolas,'Courier New',monospace\">\n",
       "Patch Lengths\n",
       "\n",
       "</pre>\n"
      ],
      "text/plain": [
       "\n",
       "Patch Lengths\n",
       "\n"
      ]
     },
     "metadata": {},
     "output_type": "display_data"
    },
    {
     "data": {
      "text/html": [
       "<div>\n",
       "<style scoped>\n",
       "    .dataframe tbody tr th:only-of-type {\n",
       "        vertical-align: middle;\n",
       "    }\n",
       "\n",
       "    .dataframe tbody tr th {\n",
       "        vertical-align: top;\n",
       "    }\n",
       "\n",
       "    .dataframe thead th {\n",
       "        text-align: right;\n",
       "    }\n",
       "</style>\n",
       "<table border=\"1\" class=\"dataframe\">\n",
       "  <thead>\n",
       "    <tr style=\"text-align: right;\">\n",
       "      <th></th>\n",
       "      <th>patch_length</th>\n",
       "      <th>test_patch_length</th>\n",
       "    </tr>\n",
       "  </thead>\n",
       "  <tbody>\n",
       "    <tr>\n",
       "      <th>count</th>\n",
       "      <td>6.000000</td>\n",
       "      <td>6.000000</td>\n",
       "    </tr>\n",
       "    <tr>\n",
       "      <th>mean</th>\n",
       "      <td>2337.833333</td>\n",
       "      <td>2255.833333</td>\n",
       "    </tr>\n",
       "    <tr>\n",
       "      <th>std</th>\n",
       "      <td>1380.618328</td>\n",
       "      <td>629.710542</td>\n",
       "    </tr>\n",
       "    <tr>\n",
       "      <th>min</th>\n",
       "      <td>912.000000</td>\n",
       "      <td>1339.000000</td>\n",
       "    </tr>\n",
       "    <tr>\n",
       "      <th>25%</th>\n",
       "      <td>1382.250000</td>\n",
       "      <td>2069.500000</td>\n",
       "    </tr>\n",
       "    <tr>\n",
       "      <th>50%</th>\n",
       "      <td>2195.000000</td>\n",
       "      <td>2214.500000</td>\n",
       "    </tr>\n",
       "    <tr>\n",
       "      <th>75%</th>\n",
       "      <td>2723.500000</td>\n",
       "      <td>2405.250000</td>\n",
       "    </tr>\n",
       "    <tr>\n",
       "      <th>max</th>\n",
       "      <td>4714.000000</td>\n",
       "      <td>3277.000000</td>\n",
       "    </tr>\n",
       "  </tbody>\n",
       "</table>\n",
       "</div>"
      ],
      "text/plain": [
       "       patch_length  test_patch_length\n",
       "count      6.000000           6.000000\n",
       "mean    2337.833333        2255.833333\n",
       "std     1380.618328         629.710542\n",
       "min      912.000000        1339.000000\n",
       "25%     1382.250000        2069.500000\n",
       "50%     2195.000000        2214.500000\n",
       "75%     2723.500000        2405.250000\n",
       "max     4714.000000        3277.000000"
      ]
     },
     "metadata": {},
     "output_type": "display_data"
    }
   ],
   "source": [
    "rprint(\"\\nPatch Lengths\\n\")\n",
    "kprize_df['patch_length'] = kprize_df['patch'].apply(lambda x: len(x))\n",
    "kprize_df['test_patch_length'] = kprize_df['test_patch'].apply(lambda x: len(x))\n",
    "display(kprize_df[['patch_length', 'test_patch_length']].describe())"
   ]
  },
  {
   "cell_type": "code",
   "execution_count": 11,
   "id": "c8d5b98d-e10a-43d2-a7e1-1a5c86839c58",
   "metadata": {},
   "outputs": [
    {
     "data": {
      "text/html": [
       "<pre style=\"white-space:pre;overflow-x:auto;line-height:normal;font-family:Menlo,'DejaVu Sans Mono',consolas,'Courier New',monospace\">\n",
       "Test Counts\n",
       "\n",
       "</pre>\n"
      ],
      "text/plain": [
       "\n",
       "Test Counts\n",
       "\n"
      ]
     },
     "metadata": {},
     "output_type": "display_data"
    },
    {
     "data": {
      "text/html": [
       "<div>\n",
       "<style scoped>\n",
       "    .dataframe tbody tr th:only-of-type {\n",
       "        vertical-align: middle;\n",
       "    }\n",
       "\n",
       "    .dataframe tbody tr th {\n",
       "        vertical-align: top;\n",
       "    }\n",
       "\n",
       "    .dataframe thead th {\n",
       "        text-align: right;\n",
       "    }\n",
       "</style>\n",
       "<table border=\"1\" class=\"dataframe\">\n",
       "  <thead>\n",
       "    <tr style=\"text-align: right;\">\n",
       "      <th></th>\n",
       "      <th>PASS_TO_PASS</th>\n",
       "      <th>FAIL_TO_PASS</th>\n",
       "      <th>PASS_TO_PASS_count</th>\n",
       "      <th>PASS_TO_PASS_count</th>\n",
       "    </tr>\n",
       "  </thead>\n",
       "  <tbody>\n",
       "    <tr>\n",
       "      <th>0</th>\n",
       "      <td>[tests/test_inference.py::InferenceUtilsTest::...</td>\n",
       "      <td>[tests/test_inference.py::test_formatted_fstri...</td>\n",
       "      <td>2</td>\n",
       "      <td>2</td>\n",
       "    </tr>\n",
       "    <tr>\n",
       "      <th>1</th>\n",
       "      <td>[tests/test_inference.py::InferenceUtilsTest::...</td>\n",
       "      <td>[tests/test_inference.py::InferenceTest::test_...</td>\n",
       "      <td>3</td>\n",
       "      <td>3</td>\n",
       "    </tr>\n",
       "    <tr>\n",
       "      <th>2</th>\n",
       "      <td>[astropy/table/tests/test_table.py::TestSetTab...</td>\n",
       "      <td>[astropy/table/tests/test_table.py::test_qtabl...</td>\n",
       "      <td>3</td>\n",
       "      <td>3</td>\n",
       "    </tr>\n",
       "    <tr>\n",
       "      <th>3</th>\n",
       "      <td>[astropy/io/fits/tests/test_connect.py::TestSi...</td>\n",
       "      <td>[astropy/io/fits/tests/test_connect.py::test_z...</td>\n",
       "      <td>2</td>\n",
       "      <td>2</td>\n",
       "    </tr>\n",
       "    <tr>\n",
       "      <th>4</th>\n",
       "      <td>[astropy/io/votable/tests/test_tree.py::test_c...</td>\n",
       "      <td>[astropy/io/votable/tests/test_tree.py::test_v...</td>\n",
       "      <td>1</td>\n",
       "      <td>1</td>\n",
       "    </tr>\n",
       "    <tr>\n",
       "      <th>5</th>\n",
       "      <td>[astropy/modeling/tests/test_core.py::test_Mod...</td>\n",
       "      <td>[astropy/modeling/tests/test_core.py::test_res...</td>\n",
       "      <td>2</td>\n",
       "      <td>2</td>\n",
       "    </tr>\n",
       "  </tbody>\n",
       "</table>\n",
       "</div>"
      ],
      "text/plain": [
       "                                        PASS_TO_PASS  \\\n",
       "0  [tests/test_inference.py::InferenceUtilsTest::...   \n",
       "1  [tests/test_inference.py::InferenceUtilsTest::...   \n",
       "2  [astropy/table/tests/test_table.py::TestSetTab...   \n",
       "3  [astropy/io/fits/tests/test_connect.py::TestSi...   \n",
       "4  [astropy/io/votable/tests/test_tree.py::test_c...   \n",
       "5  [astropy/modeling/tests/test_core.py::test_Mod...   \n",
       "\n",
       "                                        FAIL_TO_PASS  PASS_TO_PASS_count  \\\n",
       "0  [tests/test_inference.py::test_formatted_fstri...                   2   \n",
       "1  [tests/test_inference.py::InferenceTest::test_...                   3   \n",
       "2  [astropy/table/tests/test_table.py::test_qtabl...                   3   \n",
       "3  [astropy/io/fits/tests/test_connect.py::test_z...                   2   \n",
       "4  [astropy/io/votable/tests/test_tree.py::test_v...                   1   \n",
       "5  [astropy/modeling/tests/test_core.py::test_res...                   2   \n",
       "\n",
       "   PASS_TO_PASS_count  \n",
       "0                   2  \n",
       "1                   3  \n",
       "2                   3  \n",
       "3                   2  \n",
       "4                   1  \n",
       "5                   2  "
      ]
     },
     "metadata": {},
     "output_type": "display_data"
    }
   ],
   "source": [
    "rprint(\"\\nTest Counts\\n\")\n",
    "kprize_df['PASS_TO_PASS_count'] = kprize_df['PASS_TO_PASS'].apply(len)\n",
    "kprize_df['PASS_TO_PASS_count'] = kprize_df['FAIL_TO_PASS'].apply(len)\n",
    "display(kprize_df[['PASS_TO_PASS', 'FAIL_TO_PASS', 'PASS_TO_PASS_count', 'PASS_TO_PASS_count']])"
   ]
  },
  {
   "cell_type": "code",
   "execution_count": null,
   "id": "b67bc323-3531-498c-982f-00b48a69916f",
   "metadata": {},
   "outputs": [],
   "source": [
    "idx = 3\n",
    "row = kprize_df.iloc[idx]\n",
    "problem_statement = row[\"problem_statement\"]\n",
    "instance_id = row[\"instance_id\"]\n",
    "repo_path = os.path.join(comp_repos_dir, f'repo__{instance_id}')"
   ]
  },
  {
   "cell_type": "code",
   "execution_count": 15,
   "id": "1b991c24-07b1-4b51-8071-325fb71bdad6",
   "metadata": {},
   "outputs": [
    {
     "data": {
      "text/html": [
       "<pre style=\"white-space:pre;overflow-x:auto;line-height:normal;font-family:Menlo,'DejaVu Sans Mono',consolas,'Courier New',monospace\">BUG: tables do not deal well with zero-sized string columns\n",
       "### Description\n",
       "\n",
       "@saimn <span style=\"font-weight: bold\">(</span><span style=\"color: #0000ff; text-decoration-color: #0000ff; text-decoration: underline\">https://github.com/astropy/astropy/pull/16894#issuecomment-2314640002)</span> in #<span style=\"color: #008080; text-decoration-color: #008080; font-weight: bold\">16894</span> that zero sized data are a\n",
       "problem:\n",
       "```\n",
       "import numpy as np\n",
       "from astropy.io import fits\n",
       "from astropy.table import QTable, Table\n",
       "data = <span style=\"color: #800080; text-decoration-color: #800080; font-weight: bold\">np.array</span><span style=\"font-weight: bold\">([(</span><span style=\"color: #008000; text-decoration-color: #008000\">\"\"</span>, <span style=\"color: #008080; text-decoration-color: #008080; font-weight: bold\">12</span><span style=\"font-weight: bold\">)]</span>, <span style=\"color: #808000; text-decoration-color: #808000\">dtype</span>=<span style=\"font-weight: bold\">[(</span><span style=\"color: #008000; text-decoration-color: #008000\">\"a\"</span>, <span style=\"color: #008000; text-decoration-color: #008000\">\"S\"</span><span style=\"font-weight: bold\">)</span>, <span style=\"font-weight: bold\">(</span><span style=\"color: #008000; text-decoration-color: #008000\">\"b\"</span>, <span style=\"color: #008000; text-decoration-color: #008000\">\"i4\"</span><span style=\"font-weight: bold\">)])</span>\n",
       "<span style=\"color: #800080; text-decoration-color: #800080; font-weight: bold\">fits.BinTableHDU</span><span style=\"font-weight: bold\">(</span>data<span style=\"font-weight: bold\">)</span><span style=\"color: #800080; text-decoration-color: #800080; font-weight: bold\">.writeto</span><span style=\"font-weight: bold\">(</span><span style=\"color: #008000; text-decoration-color: #008000\">\"zerodtable.fits\"</span>, <span style=\"color: #808000; text-decoration-color: #808000\">overwrite</span>=<span style=\"color: #00ff00; text-decoration-color: #00ff00; font-style: italic\">True</span><span style=\"font-weight: bold\">)</span>\n",
       "t = <span style=\"color: #800080; text-decoration-color: #800080; font-weight: bold\">Table.read</span><span style=\"font-weight: bold\">(</span><span style=\"color: #008000; text-decoration-color: #008000\">\"zerodtable.fits\"</span><span style=\"font-weight: bold\">)</span>\n",
       "t\n",
       "\n",
       "File ~<span style=\"color: #800080; text-decoration-color: #800080\">/dev/astropy/astropy/astropy/table/</span><span style=\"color: #ff00ff; text-decoration-color: #ff00ff\">pprint.py</span>:<span style=\"color: #008080; text-decoration-color: #008080; font-weight: bold\">295</span>, in <span style=\"color: #800080; text-decoration-color: #800080; font-weight: bold\">TableFormatter._pformat_col</span><span style=\"font-weight: bold\">(</span>self, col, max_lines, \n",
       "show_name, show_unit, show_dtype, show_length, html, align<span style=\"font-weight: bold\">)</span>\n",
       "    <span style=\"color: #008080; text-decoration-color: #008080; font-weight: bold\">283</span> col_strs_iter = <span style=\"color: #800080; text-decoration-color: #800080; font-weight: bold\">self._pformat_col_iter</span><span style=\"font-weight: bold\">(</span>\n",
       "    <span style=\"color: #008080; text-decoration-color: #008080; font-weight: bold\">284</span>     col,\n",
       "    <span style=\"color: #008080; text-decoration-color: #008080; font-weight: bold\">285</span>     max_lines,\n",
       "   <span style=\"font-weight: bold\">(</span><span style=\"color: #808000; text-decoration-color: #808000\">...</span><span style=\"font-weight: bold\">)</span>\n",
       "    <span style=\"color: #008080; text-decoration-color: #008080; font-weight: bold\">290</span>     <span style=\"color: #808000; text-decoration-color: #808000\">outs</span>=<span style=\"color: #800080; text-decoration-color: #800080\">outs</span>,\n",
       "    <span style=\"color: #008080; text-decoration-color: #008080; font-weight: bold\">291</span> <span style=\"font-weight: bold\">)</span>\n",
       "    <span style=\"color: #008080; text-decoration-color: #008080; font-weight: bold\">293</span> # Replace tab and newline with text representations so they display nicely.\n",
       "    <span style=\"color: #008080; text-decoration-color: #008080; font-weight: bold\">294</span> # Newline in particular is a problem in a multicolumn table.\n",
       "--&gt; <span style=\"color: #008080; text-decoration-color: #008080; font-weight: bold\">295</span> col_strs = <span style=\"font-weight: bold\">[</span>\n",
       "    <span style=\"color: #008080; text-decoration-color: #008080; font-weight: bold\">296</span>     <span style=\"color: #800080; text-decoration-color: #800080; font-weight: bold\">val.replace</span><span style=\"font-weight: bold\">(</span><span style=\"color: #008000; text-decoration-color: #008000\">\"\\t\"</span>, <span style=\"color: #008000; text-decoration-color: #008000\">\"\\\\t\"</span><span style=\"font-weight: bold\">)</span><span style=\"color: #800080; text-decoration-color: #800080; font-weight: bold\">.replace</span><span style=\"font-weight: bold\">(</span><span style=\"color: #008000; text-decoration-color: #008000\">\"\\n\"</span>, <span style=\"color: #008000; text-decoration-color: #008000\">\"\\\\n\"</span><span style=\"font-weight: bold\">)</span> for val in col_strs_iter\n",
       "    <span style=\"color: #008080; text-decoration-color: #008080; font-weight: bold\">297</span> <span style=\"font-weight: bold\">]</span>\n",
       "    <span style=\"color: #008080; text-decoration-color: #008080; font-weight: bold\">298</span> if <span style=\"color: #800080; text-decoration-color: #800080; font-weight: bold\">len</span><span style=\"font-weight: bold\">(</span>col_strs<span style=\"font-weight: bold\">)</span> &gt; <span style=\"color: #008080; text-decoration-color: #008080; font-weight: bold\">0</span>:\n",
       "    <span style=\"color: #008080; text-decoration-color: #008080; font-weight: bold\">299</span>     col_width = <span style=\"color: #800080; text-decoration-color: #800080; font-weight: bold\">max</span><span style=\"font-weight: bold\">(</span><span style=\"color: #800080; text-decoration-color: #800080; font-weight: bold\">len</span><span style=\"font-weight: bold\">(</span>x<span style=\"font-weight: bold\">)</span> for x in col_strs<span style=\"font-weight: bold\">)</span>\n",
       "\n",
       "File ~<span style=\"color: #800080; text-decoration-color: #800080\">/dev/astropy/astropy/astropy/table/</span><span style=\"color: #ff00ff; text-decoration-color: #ff00ff\">pprint.py</span>:<span style=\"color: #008080; text-decoration-color: #008080; font-weight: bold\">452</span>, in <span style=\"color: #800080; text-decoration-color: #800080; font-weight: bold\">TableFormatter._pformat_col_iter</span><span style=\"font-weight: bold\">(</span>self, col, max_lines, \n",
       "show_name, show_unit, outs, show_dtype, show_length<span style=\"font-weight: bold\">)</span>\n",
       "    <span style=\"color: #008080; text-decoration-color: #008080; font-weight: bold\">450</span> n_header += <span style=\"color: #008080; text-decoration-color: #008080; font-weight: bold\">1</span>\n",
       "    <span style=\"color: #008080; text-decoration-color: #008080; font-weight: bold\">451</span> if dtype is not <span style=\"color: #800080; text-decoration-color: #800080; font-style: italic\">None</span>:\n",
       "--&gt; <span style=\"color: #008080; text-decoration-color: #008080; font-weight: bold\">452</span>     col_dtype = <span style=\"color: #800080; text-decoration-color: #800080; font-weight: bold\">dtype_info_name</span><span style=\"font-weight: bold\">((</span>dtype, multidims<span style=\"font-weight: bold\">))</span>\n",
       "    <span style=\"color: #008080; text-decoration-color: #008080; font-weight: bold\">453</span> else:\n",
       "    <span style=\"color: #008080; text-decoration-color: #008080; font-weight: bold\">454</span>     col_dtype = col.__class__.__qualname__ or <span style=\"color: #008000; text-decoration-color: #008000\">\"object\"</span>\n",
       "\n",
       "File ~<span style=\"color: #800080; text-decoration-color: #800080\">/dev/astropy/astropy/astropy/utils/</span><span style=\"color: #ff00ff; text-decoration-color: #ff00ff\">data_info.py</span>:<span style=\"color: #008080; text-decoration-color: #008080; font-weight: bold\">100</span>, in <span style=\"color: #800080; text-decoration-color: #800080; font-weight: bold\">dtype_info_name</span><span style=\"font-weight: bold\">(</span>dtype<span style=\"font-weight: bold\">)</span>\n",
       "     <span style=\"color: #008080; text-decoration-color: #008080; font-weight: bold\">74</span> def <span style=\"color: #800080; text-decoration-color: #800080; font-weight: bold\">dtype_info_name</span><span style=\"font-weight: bold\">(</span>dtype<span style=\"font-weight: bold\">)</span>:\n",
       "     <span style=\"color: #008080; text-decoration-color: #008080; font-weight: bold\">75</span>     <span style=\"color: #008000; text-decoration-color: #008000\">\"\"</span>\"Return a human-oriented string name of the ``dtype`` arg.\n",
       "     <span style=\"color: #008080; text-decoration-color: #008080; font-weight: bold\">76</span>     This can be use by astropy methods that present type information about\n",
       "     <span style=\"color: #008080; text-decoration-color: #008080; font-weight: bold\">77</span>     a data object.\n",
       "   <span style=\"font-weight: bold\">(</span><span style=\"color: #808000; text-decoration-color: #808000\">...</span><span style=\"font-weight: bold\">)</span>\n",
       "     <span style=\"color: #008080; text-decoration-color: #008080; font-weight: bold\">98</span>         String name of ``dtype``\n",
       "     <span style=\"color: #008080; text-decoration-color: #008080; font-weight: bold\">99</span>     <span style=\"color: #008000; text-decoration-color: #008000\">\"\"</span>\"\n",
       "--&gt; <span style=\"color: #008080; text-decoration-color: #008080; font-weight: bold\">100</span>     dtype = <span style=\"color: #800080; text-decoration-color: #800080; font-weight: bold\">np.dtype</span><span style=\"font-weight: bold\">(</span>dtype<span style=\"font-weight: bold\">)</span>\n",
       "    <span style=\"color: #008080; text-decoration-color: #008080; font-weight: bold\">101</span>     if dtype.names is not <span style=\"color: #800080; text-decoration-color: #800080; font-style: italic\">None</span>:\n",
       "    <span style=\"color: #008080; text-decoration-color: #008080; font-weight: bold\">102</span>         info_names = <span style=\"color: #008000; text-decoration-color: #008000\">\", \"</span><span style=\"color: #800080; text-decoration-color: #800080; font-weight: bold\">.join</span><span style=\"font-weight: bold\">(</span><span style=\"color: #800080; text-decoration-color: #800080; font-weight: bold\">dtype_info_name</span><span style=\"font-weight: bold\">(</span>dt<span style=\"font-weight: bold\">[</span><span style=\"color: #008080; text-decoration-color: #008080; font-weight: bold\">0</span><span style=\"font-weight: bold\">])</span> for dt in <span style=\"color: #800080; text-decoration-color: #800080; font-weight: bold\">dtype.fields.values</span><span style=\"font-weight: bold\">())</span>\n",
       "\n",
       "ValueError: invalid itemsize in generic type tuple\n",
       "```\n",
       "This problem is in displaying, not creating the table:\n",
       "```\n",
       "t<span style=\"font-weight: bold\">[</span><span style=\"color: #008000; text-decoration-color: #008000\">\"a\"</span><span style=\"font-weight: bold\">]</span>\n",
       "<span style=\"font-weight: bold\">&lt;</span><span style=\"color: #ff00ff; text-decoration-color: #ff00ff; font-weight: bold\">MaskedColumn</span><span style=\"color: #000000; text-decoration-color: #000000\"> </span><span style=\"color: #808000; text-decoration-color: #808000\">name</span><span style=\"color: #000000; text-decoration-color: #000000\">=</span><span style=\"color: #008000; text-decoration-color: #008000\">'a'</span><span style=\"color: #000000; text-decoration-color: #000000\"> </span><span style=\"color: #808000; text-decoration-color: #808000\">dtype</span><span style=\"color: #000000; text-decoration-color: #000000\">=</span><span style=\"color: #008000; text-decoration-color: #008000\">'bytes0'</span><span style=\"color: #000000; text-decoration-color: #000000\"> </span><span style=\"color: #808000; text-decoration-color: #808000\">length</span><span style=\"color: #000000; text-decoration-color: #000000\">=</span><span style=\"color: #008080; text-decoration-color: #008080; font-weight: bold\">1</span><span style=\"color: #000000; text-decoration-color: #000000\">&gt;</span>\n",
       "<span style=\"color: #000000; text-decoration-color: #000000\">--</span>\n",
       "<span style=\"color: #000000; text-decoration-color: #000000\">```</span>\n",
       "<span style=\"color: #000000; text-decoration-color: #000000\">The display problem seems a bug in numpy - </span><span style=\"color: #0000ff; text-decoration-color: #0000ff; text-decoration: underline\">https://github.com/numpy/numpy/issues/27301</span><span style=\"color: #000000; text-decoration-color: #000000\"> - but one we should work </span>\n",
       "<span style=\"color: #000000; text-decoration-color: #000000\">around for now.</span>\n",
       "\n",
       "<span style=\"color: #000000; text-decoration-color: #000000\">Furthermore, `QTable` can read it, but changes the size</span>\n",
       "<span style=\"color: #000000; text-decoration-color: #000000\">```</span>\n",
       "<span style=\"color: #800080; text-decoration-color: #800080; font-weight: bold\">QTable.read</span><span style=\"color: #000000; text-decoration-color: #000000; font-weight: bold\">(</span><span style=\"color: #008000; text-decoration-color: #008000\">\"zerodtable.fits\"</span><span style=\"color: #000000; text-decoration-color: #000000; font-weight: bold\">)</span>\n",
       "<span style=\"color: #000000; text-decoration-color: #000000\">&lt;QTable </span><span style=\"color: #808000; text-decoration-color: #808000\">length</span><span style=\"color: #000000; text-decoration-color: #000000\">=</span><span style=\"color: #008080; text-decoration-color: #008080; font-weight: bold\">1</span><span style=\"font-weight: bold\">&gt;</span>\n",
       "  a      b  \n",
       "bytes1 int32\n",
       "------ -----\n",
       "    --    <span style=\"color: #008080; text-decoration-color: #008080; font-weight: bold\">12</span>\n",
       "```\n",
       "\n",
       "This turns out to be because in `io`, for table subclasses, one does `<span style=\"color: #800080; text-decoration-color: #800080; font-weight: bold\">QTable</span><span style=\"font-weight: bold\">(</span>table<span style=\"font-weight: bold\">)</span>` - and with a copy this changes\n",
       "the dtype.\n",
       "\n",
       "</pre>\n"
      ],
      "text/plain": [
       "BUG: tables do not deal well with zero-sized string columns\n",
       "### Description\n",
       "\n",
       "@saimn \u001b[1m(\u001b[0m\u001b[4;94mhttps://github.com/astropy/astropy/pull/16894#issuecomment-2314640002\u001b[0m\u001b[4;94m)\u001b[0m in #\u001b[1;36m16894\u001b[0m that zero sized data are a\n",
       "problem:\n",
       "```\n",
       "import numpy as np\n",
       "from astropy.io import fits\n",
       "from astropy.table import QTable, Table\n",
       "data = \u001b[1;35mnp.array\u001b[0m\u001b[1m(\u001b[0m\u001b[1m[\u001b[0m\u001b[1m(\u001b[0m\u001b[32m\"\"\u001b[0m, \u001b[1;36m12\u001b[0m\u001b[1m)\u001b[0m\u001b[1m]\u001b[0m, \u001b[33mdtype\u001b[0m=\u001b[1m[\u001b[0m\u001b[1m(\u001b[0m\u001b[32m\"a\"\u001b[0m, \u001b[32m\"S\"\u001b[0m\u001b[1m)\u001b[0m, \u001b[1m(\u001b[0m\u001b[32m\"b\"\u001b[0m, \u001b[32m\"i4\"\u001b[0m\u001b[1m)\u001b[0m\u001b[1m]\u001b[0m\u001b[1m)\u001b[0m\n",
       "\u001b[1;35mfits.BinTableHDU\u001b[0m\u001b[1m(\u001b[0mdata\u001b[1m)\u001b[0m\u001b[1;35m.writeto\u001b[0m\u001b[1m(\u001b[0m\u001b[32m\"zerodtable.fits\"\u001b[0m, \u001b[33moverwrite\u001b[0m=\u001b[3;92mTrue\u001b[0m\u001b[1m)\u001b[0m\n",
       "t = \u001b[1;35mTable.read\u001b[0m\u001b[1m(\u001b[0m\u001b[32m\"zerodtable.fits\"\u001b[0m\u001b[1m)\u001b[0m\n",
       "t\n",
       "\n",
       "File ~\u001b[35m/dev/astropy/astropy/astropy/table/\u001b[0m\u001b[95mpprint.py\u001b[0m:\u001b[1;36m295\u001b[0m, in \u001b[1;35mTableFormatter._pformat_col\u001b[0m\u001b[1m(\u001b[0mself, col, max_lines, \n",
       "show_name, show_unit, show_dtype, show_length, html, align\u001b[1m)\u001b[0m\n",
       "    \u001b[1;36m283\u001b[0m col_strs_iter = \u001b[1;35mself._pformat_col_iter\u001b[0m\u001b[1m(\u001b[0m\n",
       "    \u001b[1;36m284\u001b[0m     col,\n",
       "    \u001b[1;36m285\u001b[0m     max_lines,\n",
       "   \u001b[1m(\u001b[0m\u001b[33m...\u001b[0m\u001b[1m)\u001b[0m\n",
       "    \u001b[1;36m290\u001b[0m     \u001b[33mouts\u001b[0m=\u001b[35mouts\u001b[0m,\n",
       "    \u001b[1;36m291\u001b[0m \u001b[1m)\u001b[0m\n",
       "    \u001b[1;36m293\u001b[0m # Replace tab and newline with text representations so they display nicely.\n",
       "    \u001b[1;36m294\u001b[0m # Newline in particular is a problem in a multicolumn table.\n",
       "--> \u001b[1;36m295\u001b[0m col_strs = \u001b[1m[\u001b[0m\n",
       "    \u001b[1;36m296\u001b[0m     \u001b[1;35mval.replace\u001b[0m\u001b[1m(\u001b[0m\u001b[32m\"\\t\"\u001b[0m, \u001b[32m\"\\\\t\"\u001b[0m\u001b[1m)\u001b[0m\u001b[1;35m.replace\u001b[0m\u001b[1m(\u001b[0m\u001b[32m\"\\n\"\u001b[0m, \u001b[32m\"\\\\n\"\u001b[0m\u001b[1m)\u001b[0m for val in col_strs_iter\n",
       "    \u001b[1;36m297\u001b[0m \u001b[1m]\u001b[0m\n",
       "    \u001b[1;36m298\u001b[0m if \u001b[1;35mlen\u001b[0m\u001b[1m(\u001b[0mcol_strs\u001b[1m)\u001b[0m > \u001b[1;36m0\u001b[0m:\n",
       "    \u001b[1;36m299\u001b[0m     col_width = \u001b[1;35mmax\u001b[0m\u001b[1m(\u001b[0m\u001b[1;35mlen\u001b[0m\u001b[1m(\u001b[0mx\u001b[1m)\u001b[0m for x in col_strs\u001b[1m)\u001b[0m\n",
       "\n",
       "File ~\u001b[35m/dev/astropy/astropy/astropy/table/\u001b[0m\u001b[95mpprint.py\u001b[0m:\u001b[1;36m452\u001b[0m, in \u001b[1;35mTableFormatter._pformat_col_iter\u001b[0m\u001b[1m(\u001b[0mself, col, max_lines, \n",
       "show_name, show_unit, outs, show_dtype, show_length\u001b[1m)\u001b[0m\n",
       "    \u001b[1;36m450\u001b[0m n_header += \u001b[1;36m1\u001b[0m\n",
       "    \u001b[1;36m451\u001b[0m if dtype is not \u001b[3;35mNone\u001b[0m:\n",
       "--> \u001b[1;36m452\u001b[0m     col_dtype = \u001b[1;35mdtype_info_name\u001b[0m\u001b[1m(\u001b[0m\u001b[1m(\u001b[0mdtype, multidims\u001b[1m)\u001b[0m\u001b[1m)\u001b[0m\n",
       "    \u001b[1;36m453\u001b[0m else:\n",
       "    \u001b[1;36m454\u001b[0m     col_dtype = col.__class__.__qualname__ or \u001b[32m\"object\"\u001b[0m\n",
       "\n",
       "File ~\u001b[35m/dev/astropy/astropy/astropy/utils/\u001b[0m\u001b[95mdata_info.py\u001b[0m:\u001b[1;36m100\u001b[0m, in \u001b[1;35mdtype_info_name\u001b[0m\u001b[1m(\u001b[0mdtype\u001b[1m)\u001b[0m\n",
       "     \u001b[1;36m74\u001b[0m def \u001b[1;35mdtype_info_name\u001b[0m\u001b[1m(\u001b[0mdtype\u001b[1m)\u001b[0m:\n",
       "     \u001b[1;36m75\u001b[0m     \u001b[32m\"\"\u001b[0m\"Return a human-oriented string name of the ``dtype`` arg.\n",
       "     \u001b[1;36m76\u001b[0m     This can be use by astropy methods that present type information about\n",
       "     \u001b[1;36m77\u001b[0m     a data object.\n",
       "   \u001b[1m(\u001b[0m\u001b[33m...\u001b[0m\u001b[1m)\u001b[0m\n",
       "     \u001b[1;36m98\u001b[0m         String name of ``dtype``\n",
       "     \u001b[1;36m99\u001b[0m     \u001b[32m\"\"\u001b[0m\"\n",
       "--> \u001b[1;36m100\u001b[0m     dtype = \u001b[1;35mnp.dtype\u001b[0m\u001b[1m(\u001b[0mdtype\u001b[1m)\u001b[0m\n",
       "    \u001b[1;36m101\u001b[0m     if dtype.names is not \u001b[3;35mNone\u001b[0m:\n",
       "    \u001b[1;36m102\u001b[0m         info_names = \u001b[32m\", \"\u001b[0m\u001b[1;35m.join\u001b[0m\u001b[1m(\u001b[0m\u001b[1;35mdtype_info_name\u001b[0m\u001b[1m(\u001b[0mdt\u001b[1m[\u001b[0m\u001b[1;36m0\u001b[0m\u001b[1m]\u001b[0m\u001b[1m)\u001b[0m for dt in \u001b[1;35mdtype.fields.values\u001b[0m\u001b[1m(\u001b[0m\u001b[1m)\u001b[0m\u001b[1m)\u001b[0m\n",
       "\n",
       "ValueError: invalid itemsize in generic type tuple\n",
       "```\n",
       "This problem is in displaying, not creating the table:\n",
       "```\n",
       "t\u001b[1m[\u001b[0m\u001b[32m\"a\"\u001b[0m\u001b[1m]\u001b[0m\n",
       "\u001b[1m<\u001b[0m\u001b[1;95mMaskedColumn\u001b[0m\u001b[39m \u001b[0m\u001b[33mname\u001b[0m\u001b[39m=\u001b[0m\u001b[32m'a'\u001b[0m\u001b[39m \u001b[0m\u001b[33mdtype\u001b[0m\u001b[39m=\u001b[0m\u001b[32m'bytes0'\u001b[0m\u001b[39m \u001b[0m\u001b[33mlength\u001b[0m\u001b[39m=\u001b[0m\u001b[1;36m1\u001b[0m\u001b[39m>\u001b[0m\n",
       "\u001b[39m--\u001b[0m\n",
       "\u001b[39m```\u001b[0m\n",
       "\u001b[39mThe display problem seems a bug in numpy - \u001b[0m\u001b[4;94mhttps://github.com/numpy/numpy/issues/27301\u001b[0m\u001b[39m - but one we should work \u001b[0m\n",
       "\u001b[39maround for now.\u001b[0m\n",
       "\n",
       "\u001b[39mFurthermore, `QTable` can read it, but changes the size\u001b[0m\n",
       "\u001b[39m```\u001b[0m\n",
       "\u001b[1;35mQTable.read\u001b[0m\u001b[1;39m(\u001b[0m\u001b[32m\"zerodtable.fits\"\u001b[0m\u001b[1;39m)\u001b[0m\n",
       "\u001b[39m<QTable \u001b[0m\u001b[33mlength\u001b[0m\u001b[39m=\u001b[0m\u001b[1;36m1\u001b[0m\u001b[1m>\u001b[0m\n",
       "  a      b  \n",
       "bytes1 int32\n",
       "------ -----\n",
       "    --    \u001b[1;36m12\u001b[0m\n",
       "```\n",
       "\n",
       "This turns out to be because in `io`, for table subclasses, one does `\u001b[1;35mQTable\u001b[0m\u001b[1m(\u001b[0mtable\u001b[1m)\u001b[0m` - and with a copy this changes\n",
       "the dtype.\n",
       "\n"
      ]
     },
     "metadata": {},
     "output_type": "display_data"
    }
   ],
   "source": [
    "# Display problem_statement\n",
    "rprint(problem_statement)"
   ]
  },
  {
   "cell_type": "code",
   "execution_count": 16,
   "id": "f13e9c65-8a70-456f-a2f5-5ea50fd7f7cf",
   "metadata": {},
   "outputs": [
    {
     "data": {
      "text/html": [
       "<div>\n",
       "<style scoped>\n",
       "    .dataframe tbody tr th:only-of-type {\n",
       "        vertical-align: middle;\n",
       "    }\n",
       "\n",
       "    .dataframe tbody tr th {\n",
       "        vertical-align: top;\n",
       "    }\n",
       "\n",
       "    .dataframe thead th {\n",
       "        text-align: right;\n",
       "    }\n",
       "</style>\n",
       "<table border=\"1\" class=\"dataframe\">\n",
       "  <thead>\n",
       "    <tr style=\"text-align: right;\">\n",
       "      <th></th>\n",
       "      <th>instance_id</th>\n",
       "      <th>repo</th>\n",
       "      <th>problem_statement</th>\n",
       "      <th>patch</th>\n",
       "      <th>test_patch</th>\n",
       "      <th>pull_number</th>\n",
       "      <th>base_commit</th>\n",
       "      <th>PASS_TO_PASS</th>\n",
       "      <th>FAIL_TO_PASS</th>\n",
       "      <th>issue_numbers</th>\n",
       "      <th>problem_statement_length</th>\n",
       "      <th>patch_length</th>\n",
       "      <th>test_patch_length</th>\n",
       "      <th>PASS_TO_PASS_count</th>\n",
       "    </tr>\n",
       "  </thead>\n",
       "  <tbody>\n",
       "    <tr>\n",
       "      <th>3</th>\n",
       "      <td>astropy__astropy-16898</td>\n",
       "      <td>astropy/astropy</td>\n",
       "      <td>BUG: tables do not deal well with zero-sized s...</td>\n",
       "      <td>diff --git a/astropy/io/registry/core.py b/ast...</td>\n",
       "      <td>diff --git a/astropy/io/fits/tests/test_connec...</td>\n",
       "      <td>16898</td>\n",
       "      <td>ee6d087baf301c1d08db92e6e5b6d909d57e6fac</td>\n",
       "      <td>[astropy/io/fits/tests/test_connect.py::TestSi...</td>\n",
       "      <td>[astropy/io/fits/tests/test_connect.py::test_z...</td>\n",
       "      <td>[16897]</td>\n",
       "      <td>315</td>\n",
       "      <td>2203</td>\n",
       "      <td>2463</td>\n",
       "      <td>2</td>\n",
       "    </tr>\n",
       "  </tbody>\n",
       "</table>\n",
       "</div>"
      ],
      "text/plain": [
       "              instance_id             repo  \\\n",
       "3  astropy__astropy-16898  astropy/astropy   \n",
       "\n",
       "                                   problem_statement  \\\n",
       "3  BUG: tables do not deal well with zero-sized s...   \n",
       "\n",
       "                                               patch  \\\n",
       "3  diff --git a/astropy/io/registry/core.py b/ast...   \n",
       "\n",
       "                                          test_patch pull_number  \\\n",
       "3  diff --git a/astropy/io/fits/tests/test_connec...       16898   \n",
       "\n",
       "                                base_commit  \\\n",
       "3  ee6d087baf301c1d08db92e6e5b6d909d57e6fac   \n",
       "\n",
       "                                        PASS_TO_PASS  \\\n",
       "3  [astropy/io/fits/tests/test_connect.py::TestSi...   \n",
       "\n",
       "                                        FAIL_TO_PASS issue_numbers  \\\n",
       "3  [astropy/io/fits/tests/test_connect.py::test_z...       [16897]   \n",
       "\n",
       "  problem_statement_length patch_length test_patch_length PASS_TO_PASS_count  \n",
       "3                      315         2203              2463                  2  "
      ]
     },
     "metadata": {},
     "output_type": "display_data"
    }
   ],
   "source": [
    "# Display current row\n",
    "display(pd.DataFrame(row).T)"
   ]
  },
  {
   "cell_type": "code",
   "execution_count": null,
   "id": "1d56993b-d511-4dd6-83be-7d9fd890b74b",
   "metadata": {},
   "outputs": [],
   "source": []
  },
  {
   "cell_type": "code",
   "execution_count": null,
   "id": "5f4870a2-4e84-47b1-9f90-52ac35a258c5",
   "metadata": {},
   "outputs": [],
   "source": []
  }
 ],
 "metadata": {
  "kernelspec": {
   "display_name": "Python 3 (ipykernel)",
   "language": "python",
   "name": "python3"
  },
  "language_info": {
   "codemirror_mode": {
    "name": "ipython",
    "version": 3
   },
   "file_extension": ".py",
   "mimetype": "text/x-python",
   "name": "python",
   "nbconvert_exporter": "python",
   "pygments_lexer": "ipython3",
   "version": "3.8.20"
  }
 },
 "nbformat": 4,
 "nbformat_minor": 5
}
