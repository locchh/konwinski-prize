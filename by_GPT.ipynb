{
 "cells": [
  {
   "cell_type": "code",
   "execution_count": 1,
   "id": "c9bfe759-ac32-4110-916b-3f9c5ea5b82b",
   "metadata": {},
   "outputs": [],
   "source": [
    "from helper import set_openai_key, test_openai_api,create_openai_client, print_pretty, generate_function_schema"
   ]
  },
  {
   "cell_type": "code",
   "execution_count": 2,
   "id": "62e08c7a-dd83-497d-9267-5016504f86df",
   "metadata": {},
   "outputs": [
    {
     "name": "stdout",
     "output_type": "stream",
     "text": [
      "API key set successfully.\n",
      "Hello! How can I assist you today?\n"
     ]
    }
   ],
   "source": [
    "set_openai_key()\n",
    "\n",
    "test_openai_api()"
   ]
  },
  {
   "cell_type": "code",
   "execution_count": 3,
   "id": "48d08638-c3d6-4f4f-a768-fb4f2e93c97d",
   "metadata": {},
   "outputs": [],
   "source": [
    "def example_function(a: int, b: str = \"default\", c: bool = True):\n",
    "    \"\"\"Example function with defaults.\"\"\"\n",
    "    pass"
   ]
  },
  {
   "cell_type": "code",
   "execution_count": 4,
   "id": "ea041ed0-4b16-4608-a728-583a2f3b237b",
   "metadata": {},
   "outputs": [
    {
     "data": {
      "text/plain": [
       "{'name': 'example_function',\n",
       " 'description': 'Example function with defaults.',\n",
       " 'parameters': {'type': 'object',\n",
       "  'properties': {'a': {'type': 'integer'},\n",
       "   'b': {'type': 'string'},\n",
       "   'c': {'type': 'boolean'}},\n",
       "  'required': ['a']}}"
      ]
     },
     "execution_count": 4,
     "metadata": {},
     "output_type": "execute_result"
    }
   ],
   "source": [
    "generate_function_schema(example_function)"
   ]
  },
  {
   "cell_type": "code",
   "execution_count": null,
   "id": "ea771955-57a1-46b3-884e-5e8b954b0d57",
   "metadata": {},
   "outputs": [],
   "source": []
  }
 ],
 "metadata": {
  "kernelspec": {
   "display_name": "Python 3 (ipykernel)",
   "language": "python",
   "name": "python3"
  },
  "language_info": {
   "codemirror_mode": {
    "name": "ipython",
    "version": 3
   },
   "file_extension": ".py",
   "mimetype": "text/x-python",
   "name": "python",
   "nbconvert_exporter": "python",
   "pygments_lexer": "ipython3",
   "version": "3.8.20"
  }
 },
 "nbformat": 4,
 "nbformat_minor": 5
}
