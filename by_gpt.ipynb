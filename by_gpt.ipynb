{
 "cells": [
  {
   "cell_type": "markdown",
   "id": "9dd8d71a-c1c2-47e7-bf09-13b666ee0849",
   "metadata": {},
   "source": [
    "### Setup"
   ]
  },
  {
   "cell_type": "code",
   "execution_count": 1,
   "id": "79e3883b-5dc0-46d7-afde-e0f45d283038",
   "metadata": {},
   "outputs": [
    {
     "name": "stdout",
     "output_type": "stream",
     "text": [
      "Import successful!\n"
     ]
    }
   ],
   "source": [
    "import os\n",
    "import json\n",
    "import pandas as pd\n",
    "from rich import print as rprint\n",
    "\n",
    "# Import util functions\n",
    "from helper import set_openai_key,\\\n",
    "                    test_openai_api,\\\n",
    "                    create_openai_client,\\\n",
    "                    print_pretty,\\\n",
    "                    function_to_schema,\\\n",
    "                    count_tiktoken_length\n",
    "\n",
    "# Import tools\n",
    "from helper import generate_tree_string,\\\n",
    "                    get_lines_from_file,\\\n",
    "                    search_code, \\\n",
    "                    get_object_definition,\\\n",
    "                    generate_patches\n",
    "\n",
    "print(\"Import successful!\")"
   ]
  },
  {
   "cell_type": "code",
   "execution_count": 2,
   "id": "7668ea18-1d63-40c1-95ab-07959eb7c1de",
   "metadata": {},
   "outputs": [],
   "source": [
    "# Define paths\n",
    "comp_dir = \"konwinski-prize\"\n",
    "comp_kaggle_evaluation_dir = os.path.join(comp_dir, \"kaggle_evaluation\")\n",
    "comp_kprize_setup_dir = os.path.join(comp_dir, \"kprize_setup\")\n",
    "\n",
    "comp_data_zip_path = os.path.join(comp_dir, \"data.a_zip\")\n",
    "comp_data_dir = os.path.join(comp_dir, \"data\")\n",
    "comp_data_parquet_path = os.path.join(comp_data_dir, \"data.parquet\")\n",
    "comp_conda_packages_dir = os.path.join(comp_data_dir, \"conda_packages\")\n",
    "comp_pip_packages_dir = os.path.join(comp_data_dir, \"pip_packages\")\n",
    "comp_repo_configs_dir = os.path.join(comp_data_dir, \"repo_configs\")\n",
    "comp_repos_dir = os.path.join(comp_data_dir, \"repos\")"
   ]
  },
  {
   "cell_type": "code",
   "execution_count": 3,
   "id": "d2623174-9556-4476-a0ae-96d371239667",
   "metadata": {},
   "outputs": [
    {
     "name": "stdout",
     "output_type": "stream",
     "text": [
      "konwinski-prize/data/repos/repo__pylint-dev__astroid-2468\n"
     ]
    }
   ],
   "source": [
    "idx = 1\n",
    "\n",
    "kprize_df = pd.read_parquet(comp_data_parquet_path)\n",
    "\n",
    "row = kprize_df.iloc[idx]\n",
    "problem_statement = row[\"problem_statement\"]\n",
    "instance_id = row[\"instance_id\"]\n",
    "repo_path = os.path.join(comp_repos_dir, f'repo__{instance_id}')\n",
    "\n",
    "print(repo_path)"
   ]
  },
  {
   "cell_type": "code",
   "execution_count": 4,
   "id": "a2695d75-4256-457a-ab4d-ecae993b0db2",
   "metadata": {},
   "outputs": [
    {
     "name": "stdout",
     "output_type": "stream",
     "text": [
      "267\n",
      "Pylint checks against incorrect type with properties that have a getter and setter\n",
      "### Steps to reproduce\n",
      "\n",
      "1. Install pylint 3.2.5 with astroid 3.2.3\n",
      "2. Set up a Python script with the following code:\n",
      "    ```python\n",
      "   class Point:\n",
      "       def __init__(self, x: float, y: float):\n",
      "           self._x = x\n",
      "           self._y = y\n",
      "\n",
      "       @property\n",
      "       def x(self) -> float:\n",
      "           return self._x\n",
      "\n",
      "       @x.setter\n",
      "       def x(self, x: float):\n",
      "           self._x = x\n",
      "\n",
      "       @property\n",
      "       def y(self) -> float:\n",
      "           return self._y\n",
      "\n",
      "       @y.setter\n",
      "       def y(self, y: float):\n",
      "           self._y = y\n",
      "\n",
      "   test = Point(1.2, 3.4)\n",
      "   value_neg = -test.x\n",
      "   ```\n",
      "4. Run pylint \n",
      "\n",
      "### Current behavior\n",
      "\n",
      "The following error is emitted: E1130: bad operand type for unary -: Point (invalid-unary-operand-type)\n",
      "\n",
      "### Expected behavior\n",
      "\n",
      "pylint reports no errors\n",
      "\n",
      "### `python -c \"from astroid import __pkginfo__; print(__pkginfo__.version)\"` output\n",
      "\n",
      "3.2.3\n",
      " \n",
      "...\n"
     ]
    }
   ],
   "source": [
    "print(count_tiktoken_length(problem_statement))\n",
    "\n",
    "print(problem_statement[:1000],\"\\n...\")"
   ]
  },
  {
   "cell_type": "code",
   "execution_count": 5,
   "id": "cc9093f5-197b-47e8-8b7e-f80ecf021095",
   "metadata": {},
   "outputs": [
    {
     "name": "stdout",
     "output_type": "stream",
     "text": [
      "API key set successfully.\n",
      "Hello! How can I assist you today?\n"
     ]
    }
   ],
   "source": [
    "set_openai_key()\n",
    "\n",
    "test_openai_api()\n",
    "\n",
    "client = create_openai_client()"
   ]
  },
  {
   "cell_type": "markdown",
   "id": "277bc933-d68f-4344-837a-0a916d149e8b",
   "metadata": {},
   "source": [
    "### Run step by step"
   ]
  },
  {
   "cell_type": "code",
   "execution_count": 6,
   "id": "0995008f-f4a4-471f-b281-b450cd9eba03",
   "metadata": {},
   "outputs": [],
   "source": [
    "model_name = \"gpt-4o\"\n",
    "\n",
    "system_prompt_template = \"\"\"\n",
    "### Context\n",
    "You are a software automation agent responsible for diagnosing and resolving issues in a repository.  \n",
    "Your task is to configure and utilize the provided tools effectively.  \n",
    "\n",
    "If the available tools are insufficient, analyze the gap, propose suitable alternatives, and justify their necessity.  \n",
    "\n",
    "### Metadata\n",
    "- Repository root directory: {repo_path}\n",
    "\"\"\"\n",
    "\n",
    "system_prompt = system_prompt_template.format(repo_path=repo_path)\n",
    "\n",
    "messages = []"
   ]
  },
  {
   "cell_type": "code",
   "execution_count": 7,
   "id": "4f3371fb-b5e0-4e03-ae24-ad68d53d7787",
   "metadata": {},
   "outputs": [],
   "source": [
    "tools = [generate_tree_string, generate_tree_string, search_code, get_object_definition]\n",
    "tool_schemas = [function_to_schema(tool) for tool in tools]\n",
    "tools_map = {tool.__name__: tool for tool in tools}"
   ]
  },
  {
   "cell_type": "markdown",
   "id": "ad068f15-89b8-4808-add8-42138b43d005",
   "metadata": {},
   "source": [
    "**Note:** As of now, OpenAI's GPT models have a 1024-character limit for tool function descriptions, and there isn't a GPT model that allows for a larger description length."
   ]
  },
  {
   "cell_type": "markdown",
   "id": "c0e9a158-8f80-48a3-8f2d-3a19da99880a",
   "metadata": {},
   "source": [
    "#### Step1"
   ]
  },
  {
   "cell_type": "code",
   "execution_count": 8,
   "id": "eadc387c-5523-4445-aa4c-3095bbaf8a3f",
   "metadata": {},
   "outputs": [
    {
     "name": "stdout",
     "output_type": "stream",
     "text": [
      "{\n",
      "    \"choices\": [\n",
      "        {\n",
      "            \"finish_reason\": \"tool_calls\",\n",
      "            \"index\": 0,\n",
      "            \"logprobs\": null,\n",
      "            \"message\": {\n",
      "                \"audio\": null,\n",
      "                \"content\": \"To address this issue, we need to investigate how the `astroid` library is handling properties, specifically how it deduces the type of properties with both getters and setters. We will start by examining the `astroid` codebase to locate where it deals with `property` decorators. Once identified, we can adjust the code to ensure pylint correctly identifies the property types.\\n\\n### Plan\\n\\n1. **Identify the Implementation of Property Handling in Astroid:**\\n   - Locate where `astroid` handles property decorators by searching for the `@property` decorator in the codebase.\\n\\n2. **Analyze the Astroid\\u2019s Type Inference Mechanism:**\\n   - Understand how astroid currently determines the type of a property with both a getter and a setter.\\n\\n3. **Modify the Code to Correctly Infer Types:**\\n   - If there is a gap in how astroid infers types for properties, adjust it so that it considers both getter and setter correctly.\\n\\n4. **Validate the Fix:**\\n   - Test the changes with the provided script to ensure the error is resolved.\\n\\nLet us proceed with the first step by searching for property handling in the `astroid` codebase. We will search for `@property` and `property` in the codebase to locate the relevant sections.\",\n",
      "                \"function_call\": null,\n",
      "                \"refusal\": null,\n",
      "                \"role\": \"assistant\",\n",
      "                \"tool_calls\": [\n",
      "                    {\n",
      "                        \"function\": {\n",
      "                            \"arguments\": \"{\\\"root_directory\\\": \\\"konwinski-prize/data/repos/repo__pylint-dev__astroid-2468\\\", \\\"search_string\\\": \\\"@property\\\"}\",\n",
      "                            \"name\": \"search_code\"\n",
      "                        },\n",
      "                        \"id\": \"call_hW4zQWnyqLqSbQsj0Ze38kB0\",\n",
      "                        \"type\": \"function\"\n",
      "                    },\n",
      "                    {\n",
      "                        \"function\": {\n",
      "                            \"arguments\": \"{\\\"root_directory\\\": \\\"konwinski-prize/data/repos/repo__pylint-dev__astroid-2468\\\", \\\"search_string\\\": \\\"property\\\"}\",\n",
      "                            \"name\": \"search_code\"\n",
      "                        },\n",
      "                        \"id\": \"call_XCplnTkVKsnXbURXqdR1zBIS\",\n",
      "                        \"type\": \"function\"\n",
      "                    }\n",
      "                ]\n",
      "            }\n",
      "        }\n",
      "    ],\n",
      "    \"created\": 1740879110,\n",
      "    \"id\": \"chatcmpl-B6STGA7aW82fmojeaOZr2gihQaRCE\",\n",
      "    \"model\": \"gpt-4o-2024-08-06\",\n",
      "    \"object\": \"chat.completion\",\n",
      "    \"service_tier\": \"default\",\n",
      "    \"system_fingerprint\": \"fp_eb9dce56a8\",\n",
      "    \"usage\": {\n",
      "        \"completion_tokens\": 360,\n",
      "        \"completion_tokens_details\": {\n",
      "            \"accepted_prediction_tokens\": 0,\n",
      "            \"audio_tokens\": 0,\n",
      "            \"reasoning_tokens\": 0,\n",
      "            \"rejected_prediction_tokens\": 0\n",
      "        },\n",
      "        \"prompt_tokens\": 1151,\n",
      "        \"prompt_tokens_details\": {\n",
      "            \"audio_tokens\": 0,\n",
      "            \"cached_tokens\": 1024\n",
      "        },\n",
      "        \"total_tokens\": 1511\n",
      "    }\n",
      "}\n"
     ]
    }
   ],
   "source": [
    "# Call API\n",
    "prompt = \"Generate a patch to resolve the following repository issue:\\n{problem_statement}\"\n",
    "prompt = prompt.format(problem_statement=problem_statement)\n",
    "\n",
    "messages.append({\"role\":\"user\",\"content\":prompt})\n",
    "\n",
    "completion = client.chat.completions.create(\n",
    "            model=model_name,\n",
    "            messages=[{\"role\": \"system\", \"content\": system_prompt}] + messages,\n",
    "            tools=tool_schemas,\n",
    "        )\n",
    "\n",
    "print_pretty(completion.dict())"
   ]
  },
  {
   "cell_type": "code",
   "execution_count": 9,
   "id": "dbda4c37-3f23-4bd5-8ae5-4eb0ef0383d3",
   "metadata": {},
   "outputs": [],
   "source": [
    "# Execute tools\n",
    "for tool_call in completion.choices[0].message.tool_calls:\n",
    "    function_name = tool_call.function.name\n",
    "    function_args = json.loads(tool_call.function.arguments)\n",
    "    function = tools_map[function_name]\n",
    "    result = function(**function_args)\n",
    "\n",
    "   #print(result)\n",
    "\n",
    "\n",
    "    # Append assistant's tool call response\n",
    "    messages.append({\n",
    "        \"role\": \"assistant\",\n",
    "        \"content\": None,\n",
    "        \"tool_calls\": [\n",
    "            {\n",
    "                \"id\": tool_call.id,\n",
    "                \"type\": \"function\",\n",
    "                \"function\": {\n",
    "                    \"name\": function_name,\n",
    "                    \"arguments\": json.dumps(function_args)\n",
    "                }\n",
    "            }\n",
    "        ]\n",
    "    })\n",
    "\n",
    "    # Append tool response correctly\n",
    "    messages.append({\n",
    "        \"role\": \"tool\",\n",
    "        \"tool_call_id\": tool_call.id,\n",
    "        \"content\": json.dumps(result)\n",
    "    })"
   ]
  },
  {
   "cell_type": "markdown",
   "id": "66bebe46-dd62-4a26-8db2-067ced091ad2",
   "metadata": {},
   "source": [
    "#### Step2"
   ]
  },
  {
   "cell_type": "code",
   "execution_count": 10,
   "id": "7a1b8364-688f-42d1-81da-413b9760484c",
   "metadata": {},
   "outputs": [
    {
     "name": "stdout",
     "output_type": "stream",
     "text": [
      "{\n",
      "    \"choices\": [\n",
      "        {\n",
      "            \"finish_reason\": \"tool_calls\",\n",
      "            \"index\": 0,\n",
      "            \"logprobs\": null,\n",
      "            \"message\": {\n",
      "                \"audio\": null,\n",
      "                \"content\": null,\n",
      "                \"function_call\": null,\n",
      "                \"refusal\": null,\n",
      "                \"role\": \"assistant\",\n",
      "                \"tool_calls\": [\n",
      "                    {\n",
      "                        \"function\": {\n",
      "                            \"arguments\": \"{\\\"root_directory\\\":\\\"konwinski-prize/data/repos/repo__pylint-dev__pylint-3553\\\",\\\"search_string\\\":\\\"invalid-unary-operand-type\\\"}\",\n",
      "                            \"name\": \"search_code\"\n",
      "                        },\n",
      "                        \"id\": \"call_wr4AmI8DzR2ageST9LwQVgmD\",\n",
      "                        \"type\": \"function\"\n",
      "                    }\n",
      "                ]\n",
      "            }\n",
      "        }\n",
      "    ],\n",
      "    \"created\": 1740879185,\n",
      "    \"id\": \"chatcmpl-B6SUTlci6KkXSv3AdagII5DPWAgYg\",\n",
      "    \"model\": \"gpt-4o-2024-08-06\",\n",
      "    \"object\": \"chat.completion\",\n",
      "    \"service_tier\": \"default\",\n",
      "    \"system_fingerprint\": \"fp_eb9dce56a8\",\n",
      "    \"usage\": {\n",
      "        \"completion_tokens\": 46,\n",
      "        \"completion_tokens_details\": {\n",
      "            \"accepted_prediction_tokens\": 0,\n",
      "            \"audio_tokens\": 0,\n",
      "            \"reasoning_tokens\": 0,\n",
      "            \"rejected_prediction_tokens\": 0\n",
      "        },\n",
      "        \"prompt_tokens\": 14068,\n",
      "        \"prompt_tokens_details\": {\n",
      "            \"audio_tokens\": 0,\n",
      "            \"cached_tokens\": 0\n",
      "        },\n",
      "        \"total_tokens\": 14114\n",
      "    }\n",
      "}\n"
     ]
    }
   ],
   "source": [
    "completion = client.chat.completions.create(\n",
    "            model=model_name,\n",
    "            messages=messages,\n",
    "            tools=tool_schemas,\n",
    "        )\n",
    "\n",
    "print_pretty(completion.dict())"
   ]
  },
  {
   "cell_type": "code",
   "execution_count": 11,
   "id": "e10ad738-dab2-4796-bbbc-34a69f7797dc",
   "metadata": {},
   "outputs": [],
   "source": [
    "# Execute tools\n",
    "for tool_call in completion.choices[0].message.tool_calls:\n",
    "    function_name = tool_call.function.name\n",
    "    function_args = json.loads(tool_call.function.arguments)\n",
    "    function = tools_map[function_name]\n",
    "    result = function(**function_args)\n",
    "\n",
    "   #print(result)\n",
    "\n",
    "\n",
    "    # Append assistant's tool call response\n",
    "    messages.append({\n",
    "        \"role\": \"assistant\",\n",
    "        \"content\": None,\n",
    "        \"tool_calls\": [\n",
    "            {\n",
    "                \"id\": tool_call.id,\n",
    "                \"type\": \"function\",\n",
    "                \"function\": {\n",
    "                    \"name\": function_name,\n",
    "                    \"arguments\": json.dumps(function_args)\n",
    "                }\n",
    "            }\n",
    "        ]\n",
    "    })\n",
    "\n",
    "    # Append tool response correctly\n",
    "    messages.append({\n",
    "        \"role\": \"tool\",\n",
    "        \"tool_call_id\": tool_call.id,\n",
    "        \"content\": json.dumps(result)\n",
    "    })"
   ]
  },
  {
   "cell_type": "markdown",
   "id": "5e4271b3-f62b-4804-8451-cc3fa72fd904",
   "metadata": {},
   "source": [
    "#### Step3"
   ]
  },
  {
   "cell_type": "code",
   "execution_count": 12,
   "id": "0744fdb6-8e93-41dc-b064-b483375a0949",
   "metadata": {},
   "outputs": [
    {
     "name": "stdout",
     "output_type": "stream",
     "text": [
      "{\n",
      "    \"choices\": [\n",
      "        {\n",
      "            \"finish_reason\": \"tool_calls\",\n",
      "            \"index\": 0,\n",
      "            \"logprobs\": null,\n",
      "            \"message\": {\n",
      "                \"audio\": null,\n",
      "                \"content\": null,\n",
      "                \"function_call\": null,\n",
      "                \"refusal\": null,\n",
      "                \"role\": \"assistant\",\n",
      "                \"tool_calls\": [\n",
      "                    {\n",
      "                        \"function\": {\n",
      "                            \"arguments\": \"{\\\"root_directory\\\":\\\"konwinski-prize/data/repos/repo__pylint-dev__pylint-3553\\\",\\\"search_string\\\":\\\"invalid\\\"}\",\n",
      "                            \"name\": \"search_code\"\n",
      "                        },\n",
      "                        \"id\": \"call_yVlMK3NPfbA0geRnS8Bcok86\",\n",
      "                        \"type\": \"function\"\n",
      "                    }\n",
      "                ]\n",
      "            }\n",
      "        }\n",
      "    ],\n",
      "    \"created\": 1740879218,\n",
      "    \"id\": \"chatcmpl-B6SV0KiL2lEmIaWQcHceAvbpLAZgL\",\n",
      "    \"model\": \"gpt-4o-2024-08-06\",\n",
      "    \"object\": \"chat.completion\",\n",
      "    \"service_tier\": \"default\",\n",
      "    \"system_fingerprint\": \"fp_eb9dce56a8\",\n",
      "    \"usage\": {\n",
      "        \"completion_tokens\": 41,\n",
      "        \"completion_tokens_details\": {\n",
      "            \"accepted_prediction_tokens\": 0,\n",
      "            \"audio_tokens\": 0,\n",
      "            \"reasoning_tokens\": 0,\n",
      "            \"rejected_prediction_tokens\": 0\n",
      "        },\n",
      "        \"prompt_tokens\": 14122,\n",
      "        \"prompt_tokens_details\": {\n",
      "            \"audio_tokens\": 0,\n",
      "            \"cached_tokens\": 14080\n",
      "        },\n",
      "        \"total_tokens\": 14163\n",
      "    }\n",
      "}\n"
     ]
    }
   ],
   "source": [
    "completion = client.chat.completions.create(\n",
    "            model=model_name,\n",
    "            messages=messages,\n",
    "            tools=tool_schemas,\n",
    "        )\n",
    "\n",
    "print_pretty(completion.dict())"
   ]
  },
  {
   "cell_type": "code",
   "execution_count": 13,
   "id": "3f36d74a-4bc8-46eb-8c07-602d78ae597f",
   "metadata": {},
   "outputs": [],
   "source": [
    "# Execute tools\n",
    "for tool_call in completion.choices[0].message.tool_calls:\n",
    "    function_name = tool_call.function.name\n",
    "    function_args = json.loads(tool_call.function.arguments)\n",
    "    function = tools_map[function_name]\n",
    "    result = function(**function_args)\n",
    "\n",
    "   #print(result)\n",
    "\n",
    "\n",
    "    # Append assistant's tool call response\n",
    "    messages.append({\n",
    "        \"role\": \"assistant\",\n",
    "        \"content\": None,\n",
    "        \"tool_calls\": [\n",
    "            {\n",
    "                \"id\": tool_call.id,\n",
    "                \"type\": \"function\",\n",
    "                \"function\": {\n",
    "                    \"name\": function_name,\n",
    "                    \"arguments\": json.dumps(function_args)\n",
    "                }\n",
    "            }\n",
    "        ]\n",
    "    })\n",
    "\n",
    "    # Append tool response correctly\n",
    "    messages.append({\n",
    "        \"role\": \"tool\",\n",
    "        \"tool_call_id\": tool_call.id,\n",
    "        \"content\": json.dumps(result)\n",
    "    })"
   ]
  },
  {
   "cell_type": "markdown",
   "id": "9599dfc5-8d7a-485d-bc99-b0c4f0b41d73",
   "metadata": {},
   "source": [
    "#### Step4"
   ]
  },
  {
   "cell_type": "code",
   "execution_count": 14,
   "id": "b7744903-c3c8-4120-b076-ef21a2ef11d3",
   "metadata": {},
   "outputs": [
    {
     "name": "stdout",
     "output_type": "stream",
     "text": [
      "{\n",
      "    \"choices\": [\n",
      "        {\n",
      "            \"finish_reason\": \"tool_calls\",\n",
      "            \"index\": 0,\n",
      "            \"logprobs\": null,\n",
      "            \"message\": {\n",
      "                \"audio\": null,\n",
      "                \"content\": null,\n",
      "                \"function_call\": null,\n",
      "                \"refusal\": null,\n",
      "                \"role\": \"assistant\",\n",
      "                \"tool_calls\": [\n",
      "                    {\n",
      "                        \"function\": {\n",
      "                            \"arguments\": \"{\\\"root_directory\\\":\\\"konwinski-prize/data/repos/repo__pylint-dev__pylint-3553\\\",\\\"search_string\\\":\\\"operand\\\"}\",\n",
      "                            \"name\": \"search_code\"\n",
      "                        },\n",
      "                        \"id\": \"call_Q4ShRHuUqQbGcE9VzBFfUo09\",\n",
      "                        \"type\": \"function\"\n",
      "                    }\n",
      "                ]\n",
      "            }\n",
      "        }\n",
      "    ],\n",
      "    \"created\": 1740879262,\n",
      "    \"id\": \"chatcmpl-B6SViAtzYyutL75lpkzlL5zdWNR0Y\",\n",
      "    \"model\": \"gpt-4o-2024-08-06\",\n",
      "    \"object\": \"chat.completion\",\n",
      "    \"service_tier\": \"default\",\n",
      "    \"system_fingerprint\": \"fp_eb9dce56a8\",\n",
      "    \"usage\": {\n",
      "        \"completion_tokens\": 41,\n",
      "        \"completion_tokens_details\": {\n",
      "            \"accepted_prediction_tokens\": 0,\n",
      "            \"audio_tokens\": 0,\n",
      "            \"reasoning_tokens\": 0,\n",
      "            \"rejected_prediction_tokens\": 0\n",
      "        },\n",
      "        \"prompt_tokens\": 14171,\n",
      "        \"prompt_tokens_details\": {\n",
      "            \"audio_tokens\": 0,\n",
      "            \"cached_tokens\": 14080\n",
      "        },\n",
      "        \"total_tokens\": 14212\n",
      "    }\n",
      "}\n"
     ]
    }
   ],
   "source": [
    "completion = client.chat.completions.create(\n",
    "            model=model_name,\n",
    "            messages=messages,\n",
    "            tools=tool_schemas,\n",
    "        )\n",
    "\n",
    "print_pretty(completion.dict())"
   ]
  },
  {
   "cell_type": "code",
   "execution_count": 15,
   "id": "f43f67cb-4ab5-473c-8453-e28cc46c893f",
   "metadata": {},
   "outputs": [],
   "source": [
    "# Execute tools\n",
    "for tool_call in completion.choices[0].message.tool_calls:\n",
    "    function_name = tool_call.function.name\n",
    "    function_args = json.loads(tool_call.function.arguments)\n",
    "    function = tools_map[function_name]\n",
    "    result = function(**function_args)\n",
    "\n",
    "   #print(result)\n",
    "\n",
    "\n",
    "    # Append assistant's tool call response\n",
    "    messages.append({\n",
    "        \"role\": \"assistant\",\n",
    "        \"content\": None,\n",
    "        \"tool_calls\": [\n",
    "            {\n",
    "                \"id\": tool_call.id,\n",
    "                \"type\": \"function\",\n",
    "                \"function\": {\n",
    "                    \"name\": function_name,\n",
    "                    \"arguments\": json.dumps(function_args)\n",
    "                }\n",
    "            }\n",
    "        ]\n",
    "    })\n",
    "\n",
    "    # Append tool response correctly\n",
    "    messages.append({\n",
    "        \"role\": \"tool\",\n",
    "        \"tool_call_id\": tool_call.id,\n",
    "        \"content\": json.dumps(result)\n",
    "    })"
   ]
  },
  {
   "cell_type": "markdown",
   "id": "49aff455-e682-4ef2-b317-a7bef4785b68",
   "metadata": {},
   "source": [
    "#### Step5"
   ]
  },
  {
   "cell_type": "code",
   "execution_count": 16,
   "id": "4ed8b54e-efae-47cf-bac4-2a465716e9f3",
   "metadata": {},
   "outputs": [
    {
     "name": "stdout",
     "output_type": "stream",
     "text": [
      "{\n",
      "    \"choices\": [\n",
      "        {\n",
      "            \"finish_reason\": \"stop\",\n",
      "            \"index\": 0,\n",
      "            \"logprobs\": null,\n",
      "            \"message\": {\n",
      "                \"audio\": null,\n",
      "                \"content\": \"To resolve the issue where Pylint incorrectly identifies an error with properties that have both a getter and setter, you'll need to make changes in the `astroid` library, which Pylint uses for abstract syntax tree representation and analysis.\\n\\n### Proposed Patch\\n\\n1. **Locate Property Handling**: Identify where properties are identified and processed in the `astroid` library. This will be related typically to the `nodes` module where Python constructs like classes and functions are parsed and converted to abstract syntax nodes.\\n\\n2. **Update Inference Mechanism**: Ensure that the inference mechanism understands that properties with getters and setters are legitimate attributes with expected types, and treat them accordingly during analysis.\\n\\n3. **Test the Fix**: Modify or add a test case that checks Pylint behavior for properties with both getter and setter, making sure no erroneous `invalid-unary-operand-type` error is being reported.\\n\\n### Example Patch Content\\nSuppose the logic related to node type inference should be updated; the patch could look something like this hypothetically:\\n\\n```diff\\n# in some_astroid_module.py\\n\\ndef infer_property(node):\\n    # Logic to infer properties correctly\\n    if node.is_property:\\n-        if hasattr(node, 'getter') and hasattr(node, 'setter'):\\n+        if isinstance(node, (some_property_inferrable_class, AnotherPossibleClass)):\\n            return inferred_type  # Ensure type inference can handle unary operations without error\\n    else:\\n        return default_inference(node)\\n\\n# Test file modification\\n\\n def test_property_type():\\n     \\\"\\\"\\\"Testing inferring properties with both getter and setter.\\\"\\\"\\\"\\n     code = '''\\n     class Point:\\n         def __init__(self, x: float, y: float):\\n             self._x = x\\n             self._y = y\\n\\n         @property\\n         def x(self) -> float:\\n             return self._x\\n\\n         @x.setter\\n         def x(self, x: float):\\n             self._x = x\\n\\n         @property\\n         def y(self) -> float:\\n             return self._y\\n\\n         @y.setter\\n         def y(self, y: float):\\n             self._y = y\\n\\n     test = Point(1.2, 3.4)\\n     value_neg = -test.x\\n     '''\\n     issues = run_pylint(code)\\n     assert 'E1130' not in issues, \\\"Pylint should not emit invalid-unary-operand-type for properties with proper typing\\\"\\n\\n```\\n\\nThis patch modifies both the core functionality and testing to cover the new feature or bug fix. Since the exact location and method names are unknown without browsing through the source code, adjust the paths and references according to your project structure and naming conventions.\",\n",
      "                \"function_call\": null,\n",
      "                \"refusal\": null,\n",
      "                \"role\": \"assistant\",\n",
      "                \"tool_calls\": null\n",
      "            }\n",
      "        }\n",
      "    ],\n",
      "    \"created\": 1740879304,\n",
      "    \"id\": \"chatcmpl-B6SWOlpRUsT5c4L6p3bRr8QWZsbP8\",\n",
      "    \"model\": \"gpt-4o-2024-08-06\",\n",
      "    \"object\": \"chat.completion\",\n",
      "    \"service_tier\": \"default\",\n",
      "    \"system_fingerprint\": \"fp_eb9dce56a8\",\n",
      "    \"usage\": {\n",
      "        \"completion_tokens\": 553,\n",
      "        \"completion_tokens_details\": {\n",
      "            \"accepted_prediction_tokens\": 0,\n",
      "            \"audio_tokens\": 0,\n",
      "            \"reasoning_tokens\": 0,\n",
      "            \"rejected_prediction_tokens\": 0\n",
      "        },\n",
      "        \"prompt_tokens\": 14220,\n",
      "        \"prompt_tokens_details\": {\n",
      "            \"audio_tokens\": 0,\n",
      "            \"cached_tokens\": 14208\n",
      "        },\n",
      "        \"total_tokens\": 14773\n",
      "    }\n",
      "}\n"
     ]
    }
   ],
   "source": [
    "completion = client.chat.completions.create(\n",
    "            model=model_name,\n",
    "            messages=messages,\n",
    "            tools=tool_schemas,\n",
    "        )\n",
    "\n",
    "print_pretty(completion.dict())"
   ]
  },
  {
   "cell_type": "code",
   "execution_count": null,
   "id": "0023519a-309c-42de-a0e5-904d699db33d",
   "metadata": {},
   "outputs": [],
   "source": []
  }
 ],
 "metadata": {
  "kernelspec": {
   "display_name": "Python 3 (ipykernel)",
   "language": "python",
   "name": "python3"
  },
  "language_info": {
   "codemirror_mode": {
    "name": "ipython",
    "version": 3
   },
   "file_extension": ".py",
   "mimetype": "text/x-python",
   "name": "python",
   "nbconvert_exporter": "python",
   "pygments_lexer": "ipython3",
   "version": "3.8.20"
  }
 },
 "nbformat": 4,
 "nbformat_minor": 5
}
